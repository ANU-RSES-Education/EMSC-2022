{
 "cells": [
  {
   "cell_type": "markdown",
   "metadata": {
    "tags": []
   },
   "source": [
    "# Map of active volcanoes\n",
    "\n",
    "Here is an example of plotting a map of active volcanoes using data online at Oregon State University.  This example was written by Meghan Miller, of ANU.\n",
    "\n",
    "<img src=\"images/volcano_map.png\" width=\"50%\"/>\n",
    "\n",
    "At the end of this script you will produce a map just like the one shown here.\n",
    "\n",
    "\n",
    "## Resources you will use. \n",
    "\n",
    "This notebook makes use of a couple of packages that might come in handy another time. The maps are made by `cartopy` which is a mapping tool written by the Meteorological Office in the UK (and which happens to be really good a plotting satellite data). The `pandas` package is a database tool that is really very good at manipulating tables of different types of data, selecting, sorting, refining and so on.\n",
    "\n",
    "## Notes on the data source\n",
    "\n",
    "The data that we are going to use come from [this web page](https://volcano.oregonstate.edu/volcano_table?sort_by=title&sort_order=ASC) and you can see that this is a human-readable table, and the first of several pages.\n",
    "\n",
    "We will show you how to read the first page, but you can also try this:\n",
    "\n",
    "  - Can you figure out how to read the next one or two pages / all the pages ? (hint: click on the link and look at the url)\n",
    "  - Can you see how to merge all the tables into one ? (hint: pandas has a `concat` function to combine a list of dataframes)\n"
   ]
  },
  {
   "cell_type": "code",
   "execution_count": null,
   "metadata": {},
   "outputs": [],
   "source": [
    "%matplotlib inline\n",
    "\n",
    "import json\n",
    "\n",
    "import cartopy.crs as ccrs\n",
    "\n",
    "import numpy as np\n",
    "import pandas as pd\n",
    "import matplotlib.pyplot as plt\n",
    "\n",
    "chartinfo = 'Author: Meghan Miller | Data: Volcano World - volcano.oregonstate.edu'"
   ]
  },
  {
   "cell_type": "code",
   "execution_count": null,
   "metadata": {},
   "outputs": [],
   "source": [
    "import cartopy\n",
    "cartopy.__version__"
   ]
  },
  {
   "cell_type": "markdown",
   "metadata": {},
   "source": [
    "This next section reads the data from the Oregon State University database. This URL is actually a script to return the table of volcanoes in various forms. This is not a big issue as it returns a valid web page, but not every library that reads html is configured to work with these general URLs."
   ]
  },
  {
   "cell_type": "code",
   "execution_count": null,
   "metadata": {},
   "outputs": [],
   "source": [
    "page_source = \"https://volcano.oregonstate.edu/volcano_table?sort_by=title&sort_order=ASC\""
   ]
  },
  {
   "cell_type": "markdown",
   "metadata": {},
   "source": [
    "This function from the `pandas` package will read all the tables in a web page and turn them into dataframes."
   ]
  },
  {
   "cell_type": "code",
   "execution_count": null,
   "metadata": {},
   "outputs": [],
   "source": [
    "tables = pd.read_html(page_source)\n",
    "print(\"There is/are {} table/s on this web page\".format(len(tables)))"
   ]
  },
  {
   "cell_type": "markdown",
   "metadata": {},
   "source": [
    "In this case, it is not necessary to parse the various tables to find the one we want, but you would need to check (for example, the page header or footer might be in the form of a table to lay out the information but we don't want to use that for our map !)"
   ]
  },
  {
   "cell_type": "code",
   "execution_count": null,
   "metadata": {},
   "outputs": [],
   "source": [
    "df_volc = tables[0]\n",
    "print(type(df_volc))"
   ]
  },
  {
   "cell_type": "code",
   "execution_count": null,
   "metadata": {},
   "outputs": [],
   "source": [
    "# pdurl = 'https://volcano.oregonstate.edu/volcano_table?sort_by=title&sort_order=ASC'\n",
    "# xpath = '//table'\n",
    "# tree = html.parse(pdurl)\n",
    "# tables = tree.xpath(xpath)\n",
    "\n",
    "# table_dfs = []\n",
    "# for idx in range(4, len(tables)):\n",
    "#     df = pd.read_html(html.tostring(tables[idx]), header=0)[0]\n",
    "#     table_dfs.append(df)"
   ]
  },
  {
   "cell_type": "code",
   "execution_count": null,
   "metadata": {},
   "outputs": [],
   "source": [
    "df_volc['Type'].value_counts()"
   ]
  },
  {
   "cell_type": "markdown",
   "metadata": {},
   "source": [
    "Clean up the data to make sure the typos and missing information are not propogated into your database. This doesn't seem to be needed in this particular case, but, in other instances, you could use this technique to replace definitions / map to a new terminology etc."
   ]
  },
  {
   "cell_type": "code",
   "execution_count": null,
   "metadata": {},
   "outputs": [],
   "source": [
    "def cleanup_type(s):\n",
    "    if not isinstance(s, str):\n",
    "        return s\n",
    "    s = s.replace('?', '').replace('  ', ' ')\n",
    "    s = s.replace('volcanoes', 'volcano')\n",
    "    s = s.replace('volcanoe', 'Volcano')\n",
    "    s = s.replace('cones', 'cone')\n",
    "    s = s.replace('Calderas', 'Caldera')\n",
    "    return s.strip().title()\n",
    "\n",
    "df_volc['Type'] = df_volc['Type'].map(cleanup_type)\n",
    "df_volc['Type'].value_counts()"
   ]
  },
  {
   "cell_type": "markdown",
   "metadata": {},
   "source": [
    "Now determine the number of volcanoes in the database."
   ]
  },
  {
   "cell_type": "code",
   "execution_count": null,
   "metadata": {},
   "outputs": [],
   "source": [
    "df_volc.dropna(inplace=True)\n",
    "len(df_volc)"
   ]
  },
  {
   "cell_type": "markdown",
   "metadata": {},
   "source": [
    "Now select the volcanoes that are above sealevel"
   ]
  },
  {
   "cell_type": "code",
   "execution_count": null,
   "metadata": {},
   "outputs": [],
   "source": [
    "df_volc = df_volc[df_volc['Elevation (m)'] >= 0]\n",
    "len(df_volc)"
   ]
  },
  {
   "cell_type": "markdown",
   "metadata": {},
   "source": [
    "Make a nice table of the first 10 volcanoes from the information that you grabbed out of the Oregon State University website on volcanoes"
   ]
  },
  {
   "cell_type": "code",
   "execution_count": null,
   "metadata": {},
   "outputs": [],
   "source": [
    "print(len(df_volc))\n",
    "df_volc.head(10)"
   ]
  },
  {
   "cell_type": "markdown",
   "metadata": {},
   "source": [
    "Determine the number of each type of volcanoes from this list and output this information to the screen."
   ]
  },
  {
   "cell_type": "code",
   "execution_count": null,
   "metadata": {},
   "outputs": [],
   "source": [
    "df_volc['Type'].value_counts()"
   ]
  },
  {
   "cell_type": "code",
   "execution_count": null,
   "metadata": {},
   "outputs": [],
   "source": [
    "df_volc.dropna(inplace=True)\n",
    "len(df_volc)"
   ]
  },
  {
   "cell_type": "code",
   "execution_count": null,
   "metadata": {},
   "outputs": [],
   "source": [
    "df = df_volc[df_volc['Type'] == 'Stratovolcano']"
   ]
  },
  {
   "cell_type": "markdown",
   "metadata": {
    "inputHidden": false,
    "outputHidden": false
   },
   "source": [
    "Create a simple scatter plot map of the stratavolcanoes"
   ]
  },
  {
   "cell_type": "code",
   "execution_count": null,
   "metadata": {},
   "outputs": [],
   "source": [
    "fig=plt.figure(figsize=(12,8))\n",
    "ax = fig.add_subplot(1,1,1, projection=ccrs.Mollweide())\n",
    "ax.stock_img()\n",
    "ax.annotate('Stratovolcanoes of the world | ' + chartinfo, xy=(0, -1.04), xycoords='axes fraction')\n",
    "ax.scatter(df['Longitude (dd)'].array,df['Latitude (dd)'].array, color='red', linewidth=1, marker='^', transform=ccrs.PlateCarree())\n",
    "\n",
    "plt.show()"
   ]
  },
  {
   "cell_type": "markdown",
   "metadata": {},
   "source": [
    "## More volcanos\n",
    "\n",
    "Can you complete the following to get a full map of ALL the volcanos ?"
   ]
  },
  {
   "cell_type": "code",
   "execution_count": null,
   "metadata": {},
   "outputs": [],
   "source": [
    "# Fix this !\n",
    "\n",
    "page_source = \"???\"\n",
    "\n",
    "tables = pd.read_html(page_source)\n",
    "print(\"There is/are {} table/s on this web page\".format(len(tables)))"
   ]
  },
  {
   "cell_type": "code",
   "execution_count": null,
   "metadata": {},
   "outputs": [],
   "source": [
    "# Can you add this to the previous data frame with pd.concat ?\n",
    "\n",
    "df_volc_1 = tables[0]\n",
    "df_volc_1"
   ]
  },
  {
   "cell_type": "code",
   "execution_count": null,
   "metadata": {},
   "outputs": [],
   "source": []
  },
  {
   "cell_type": "code",
   "execution_count": null,
   "metadata": {},
   "outputs": [],
   "source": []
  },
  {
   "cell_type": "code",
   "execution_count": null,
   "metadata": {},
   "outputs": [],
   "source": []
  }
 ],
 "metadata": {
  "kernel_info": {
   "name": "python3"
  },
  "kernelspec": {
   "display_name": "Python 3 (ipykernel)",
   "language": "python",
   "name": "python3"
  },
  "language_info": {
   "codemirror_mode": {
    "name": "ipython",
    "version": 3
   },
   "file_extension": ".py",
   "mimetype": "text/x-python",
   "name": "python",
   "nbconvert_exporter": "python",
   "pygments_lexer": "ipython3",
   "version": "3.9.10"
  },
  "nteract": {
   "version": "0.12.3"
  }
 },
 "nbformat": 4,
 "nbformat_minor": 4
}
