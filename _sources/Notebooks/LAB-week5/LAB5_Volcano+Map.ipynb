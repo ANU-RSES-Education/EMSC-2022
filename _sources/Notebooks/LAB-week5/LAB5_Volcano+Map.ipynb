{
 "cells": [
  {
   "cell_type": "markdown",
   "metadata": {},
   "source": [
    "# LAB 5 - Map of active volcanoes\n",
    "\n",
    "Here is an example of plotting a map of active volcanoes using data online at Oregon State University.\n",
    "\n",
    "<!-- This form breaks the book \n",
    "<div>\n",
    "<img src=\"Images/volcano_map.png\" width=\"50%\"/>\n",
    "</div>\n",
    "-->\n",
    "\n",
    "![volcano_map](Images/volcano_map.png)\n",
    "\n",
    "\n",
    "At the end of this script you will produce a map just like the one shown here.\n",
    "\n",
    "\n",
    "## Resources you will use. \n",
    "\n",
    "This notebook makes use of a couple of packages that might come in handy another time. The maps \n",
    "are made by `cartopy` which is a mapping tool written by the Meteorological Office in the UK (and \n",
    "which happens to be really good a plotting satellite data). The `pandas` package is a database \n",
    "tool that is really very good at manipulating tables of different types of data, selecting, sorting,\n",
    "refining and so on.\n"
   ]
  },
  {
   "cell_type": "code",
   "execution_count": null,
   "metadata": {},
   "outputs": [],
   "source": [
    "%matplotlib inline\n",
    "\n",
    "import json\n",
    "\n",
    "from lxml import html\n",
    "\n",
    "import cartopy.crs as ccrs\n",
    "\n",
    "import numpy as np\n",
    "import pandas as pd\n",
    "import matplotlib.pyplot as plt\n",
    "\n",
    "chartinfo = 'Author: Meghan Miller | Data: Volcano World - volcano.oregonstate.edu'"
   ]
  },
  {
   "cell_type": "markdown",
   "metadata": {},
   "source": [
    "This next section reads the data from the Oregon State University database at:  http://volcano.oregonstate.edu/oldroot/volcanoes/alpha.html"
   ]
  },
  {
   "cell_type": "code",
   "execution_count": null,
   "metadata": {},
   "outputs": [],
   "source": [
    "pdurl = 'http://volcano.oregonstate.edu/oldroot/volcanoes/alpha.html'\n",
    "xpath = '//table'\n",
    "tree = html.parse(pdurl)\n",
    "tables = tree.xpath(xpath)\n",
    "\n",
    "table_dfs = []\n",
    "for idx in range(4, len(tables)):\n",
    "    df = pd.read_html(html.tostring(tables[idx]), header=0)[0]\n",
    "    table_dfs.append(df)"
   ]
  },
  {
   "cell_type": "code",
   "execution_count": null,
   "metadata": {},
   "outputs": [],
   "source": [
    "df_volc = pd.concat(table_dfs, ignore_index=True)"
   ]
  },
  {
   "cell_type": "markdown",
   "metadata": {},
   "source": [
    "Clean up the data to make sure the typos and missing information are not propogated into your database"
   ]
  },
  {
   "cell_type": "code",
   "execution_count": null,
   "metadata": {},
   "outputs": [],
   "source": [
    "def cleanup_type(s):\n",
    "    if not isinstance(s, str):\n",
    "        return s\n",
    "    s = s.replace('?', '').replace('  ', ' ')\n",
    "    s = s.replace('volcanoes', 'volcano')\n",
    "    s = s.replace('volcanoe', 'Volcano')\n",
    "    s = s.replace('cones', 'cone')\n",
    "    s = s.replace('Calderas', 'Caldera')\n",
    "    return s.strip().title()\n",
    "\n",
    "df_volc['Type'] = df_volc['Type'].map(cleanup_type)\n",
    "df_volc['Type'].value_counts()"
   ]
  },
  {
   "cell_type": "markdown",
   "metadata": {},
   "source": [
    "Now determine the number of volcanoes in the database."
   ]
  },
  {
   "cell_type": "code",
   "execution_count": null,
   "metadata": {},
   "outputs": [],
   "source": [
    "df_volc.dropna(inplace=True)\n",
    "len(df_volc)"
   ]
  },
  {
   "cell_type": "markdown",
   "metadata": {},
   "source": [
    "Now select the volcanoes that are above sealevel"
   ]
  },
  {
   "cell_type": "code",
   "execution_count": null,
   "metadata": {},
   "outputs": [],
   "source": [
    "df_volc = df_volc[df_volc['Elevation (m)'] >= 0]\n",
    "len(df_volc)"
   ]
  },
  {
   "cell_type": "markdown",
   "metadata": {},
   "source": [
    "Make a nice table of the first 10 volancoes from the information that you grabbed out of the Oregon State University website on volcanoes"
   ]
  },
  {
   "cell_type": "code",
   "execution_count": null,
   "metadata": {},
   "outputs": [],
   "source": [
    "print(len(df_volc))\n",
    "df_volc.head(10)"
   ]
  },
  {
   "cell_type": "markdown",
   "metadata": {},
   "source": [
    "Determine the number of each type of volcanoes from this list and output this information to the screen."
   ]
  },
  {
   "cell_type": "code",
   "execution_count": null,
   "metadata": {},
   "outputs": [],
   "source": [
    "df_volc['Type'].value_counts()"
   ]
  },
  {
   "cell_type": "code",
   "execution_count": null,
   "metadata": {},
   "outputs": [],
   "source": [
    "df_volc.dropna(inplace=True)\n",
    "len(df_volc)"
   ]
  },
  {
   "cell_type": "code",
   "execution_count": null,
   "metadata": {},
   "outputs": [],
   "source": [
    "df = df_volc[df_volc['Type'] == 'Stratovolcano']"
   ]
  },
  {
   "cell_type": "markdown",
   "metadata": {
    "inputHidden": false,
    "outputHidden": false
   },
   "source": [
    "Create a simple scatter plot map of the stratavolcanoes"
   ]
  },
  {
   "cell_type": "code",
   "execution_count": null,
   "metadata": {},
   "outputs": [],
   "source": [
    "fig=plt.figure(figsize=(12,8))\n",
    "ax = fig.add_subplot(1,1,1, projection=ccrs.Mollweide())\n",
    "ax.stock_img()\n",
    "ax.annotate('Stratovolcanoes of the world | ' + chartinfo, xy=(0, -1.04), xycoords='axes fraction')\n",
    "ax.scatter(df['Longitude'].array,df['Latitude'].array, color='red', linewidth=1, marker='^', transform=ccrs.PlateCarree())\n",
    "\n",
    "plt.show()"
   ]
  },
  {
   "cell_type": "code",
   "execution_count": null,
   "metadata": {},
   "outputs": [],
   "source": []
  }
 ],
 "metadata": {
  "kernel_info": {
   "name": "python3"
  },
  "kernelspec": {
   "display_name": "Python 3",
   "language": "python",
   "name": "python3"
  },
  "language_info": {
   "codemirror_mode": {
    "name": "ipython",
    "version": 3
   },
   "file_extension": ".py",
   "mimetype": "text/x-python",
   "name": "python",
   "nbconvert_exporter": "python",
   "pygments_lexer": "ipython3",
   "version": "3.7.10"
  },
  "nteract": {
   "version": "0.12.3"
  }
 },
 "nbformat": 4,
 "nbformat_minor": 4
}
