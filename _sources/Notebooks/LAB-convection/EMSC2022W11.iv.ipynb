{
 "cells": [
  {
   "cell_type": "markdown",
   "metadata": {
    "tags": [
     "raises-exception"
    ]
   },
   "source": [
    "# EMSC Week 11 - A detailed look at the depth-age relationship for the seafloor.\n",
    "\n",
    "We have two problems: the resolution of the two datasets is not equal and so it will be difficult to sample points one-to-one for the purposes of plotting a graph. The other problem is that we have uniformly spaced data in a latitude and longitude grid. This means that the area represented by each grid point or grid square is very different depending on how close to the pole you are. This is something that we encounter\n",
    "all the time when working with map projections\n",
    "\n",
    "<div>\n",
    "<img src=\"https://upload.wikimedia.org/wikipedia/commons/thumb/7/73/Mercator_projection_Square.JPG/700px-Mercator_projection_Square.JPG\" width=30%>\n",
    "\n",
    "<img src=\"https://upload.wikimedia.org/wikipedia/commons/thumb/0/02/Mercator_with_Tissot%27s_Indicatrices_of_Distortion.svg/700px-Mercator_with_Tissot%27s_Indicatrices_of_Distortion.svg.png\" width=30%>\n",
    "</div>\n",
    "\n",
    "In these images you can see on the left, how the area in a mercator projection is horribly distorted near the poles and this is quantified on the right by showing the area represented by a small region in the projected space (from https://en.wikipedia.org/wiki/Mercator_projection)\n",
    "\n",
    "Here is an example of a grid that is uniform on the sphere: \n",
    "\n",
    "<div>\n",
    "<img src=\"Images/Icosahedron.png\" width=40%>\n",
    "</div>\n",
    "\n",
    "We have a library `stripy` that can generate points for uniform triangulations but somehow we will need to interpolate our data.\n",
    "\n",
    "## Navigation\n",
    "\n",
    "  - the [first notebook:EMSC2022W11.i.ipynb](EMSC2022W11.i.ipynb)\n",
    "  - the [next notebook:EMSC2022W11.v.ipynb](EMSC2022W11.v.ipynb)\n",
    "\n",
    "\n",
    "\n",
    "## Let's try the triangulation routines and map the points\n",
    "\n",
    "This is how we make a mesh in `stripy`"
   ]
  },
  {
   "cell_type": "code",
   "execution_count": null,
   "metadata": {},
   "outputs": [],
   "source": [
    "import stripy\n",
    "import numpy as np\n",
    "\n",
    "even_mesh = stripy.spherical_meshes.icosahedral_mesh(include_face_points=True, tree=True, refinement_levels=4)\n",
    "number_of_mesh_points = even_mesh.npoints\n",
    "\n",
    "latitudes_in_radians = even_mesh.lats\n",
    "latitudes_in_degrees = np.degrees(latitudes_in_radians) \n",
    "\n",
    "longitudes_in_radians = even_mesh.lons \n",
    "longitudes_in_degrees = np.degrees(longitudes_in_radians)%360.0 - 180.0"
   ]
  },
  {
   "cell_type": "markdown",
   "metadata": {},
   "source": [
    "## Have a look\n",
    "\n",
    "Here we plot the points on the globe to demonstrate that the points are evenly spaced. \n",
    "\n",
    "Exercise: \n",
    "\n",
    "  1. Try changing the `refinement_levels` parameter from 2 to 4 \n",
    "  2. Can you make a plot that demonstrates the uneven spacing of the points in a regular spaced grid \n",
    "     (Hint: *there are two ways - one is to create a regular grid of points and plot those in this projection. The other might be to \n",
    "     plot the regular points on a flat projection. You can choose*)"
   ]
  },
  {
   "cell_type": "code",
   "execution_count": null,
   "metadata": {},
   "outputs": [],
   "source": [
    "\n",
    "import matplotlib.pyplot as plt\n",
    "%matplotlib inline\n",
    "\n",
    "import cartopy.crs as ccrs\n",
    "import cartopy.feature as cfeature\n",
    "\n",
    "coastline = cfeature.NaturalEarthFeature('physical', 'coastline', '10m',\n",
    "                           edgecolor=(1.0,0.8,0.0),\n",
    "                           facecolor=\"none\")\n",
    "\n",
    "plt.figure(figsize=(15, 10))\n",
    "ax = plt.subplot(111, projection=ccrs.Orthographic(central_longitude=0.1))\n",
    "\n",
    "ax.add_feature(coastline, edgecolor=\"black\", linewidth=0.5, zorder=3)\n",
    "\n",
    "plt.scatter(longitudes_in_degrees, latitudes_in_degrees, transform=ccrs.PlateCarree())"
   ]
  },
  {
   "cell_type": "markdown",
   "metadata": {},
   "source": [
    "## Find the age or depth values on these points \n",
    "\n",
    "Now we would like to interpolate each of our datasets to the same set of grid points. That way we can plot them against each other correctly.\n",
    "Let us do this with the age grid to begin with."
   ]
  },
  {
   "cell_type": "code",
   "execution_count": null,
   "metadata": {},
   "outputs": [],
   "source": [
    "import xarray\n",
    "\n",
    "age_dataset = \"data/age.3.6.nc\"\n",
    "age_data = xarray.open_dataset(age_dataset)\n",
    "subs_data = age_data.sel(x=slice(-180,180, 1), y=slice(-90, 90, 1))\n",
    "\n",
    "lons = subs_data.coords.get('x')\n",
    "lats = subs_data.coords.get('y')\n",
    "vals = subs_data['z']\n",
    "\n",
    "x,y = np.meshgrid(lons.data, lats.data)\n",
    "\n",
    "# Now we know to rescale the data so it is in Myr\n",
    "age = (vals.data / 100.0) \n",
    "\n",
    "age[np.isnan(age)] = -1.0\n"
   ]
  },
  {
   "cell_type": "code",
   "execution_count": null,
   "metadata": {},
   "outputs": [],
   "source": []
  },
  {
   "cell_type": "code",
   "execution_count": null,
   "metadata": {},
   "outputs": [],
   "source": [
    "def map_raster_to_mesh(mesh, latlongrid):\n",
    "    \n",
    "    raster = latlongrid.T\n",
    "\n",
    "    latitudes_in_radians  = mesh.lats\n",
    "    longitudes_in_radians = mesh.lons \n",
    "    latitudes_in_degrees  = np.degrees(latitudes_in_radians) \n",
    "    longitudes_in_degrees = np.degrees(longitudes_in_radians)%360.0 - 180.0\n",
    "\n",
    "    dlons = np.mod(longitudes_in_degrees+180.0, 360.0)\n",
    "    dlats = np.mod(latitudes_in_degrees+90, 180.0)\n",
    "\n",
    "    ilons = raster.shape[0] * dlons / 360.0\n",
    "    ilats = raster.shape[1] * dlats / 180.0\n",
    "\n",
    "    icoords = np.array((ilons, ilats))\n",
    "\n",
    "    from scipy import ndimage\n",
    "\n",
    "    mvals = ndimage.map_coordinates(raster, icoords , order=3, mode='nearest').astype(float)\n",
    "    \n",
    "    return mvals\n",
    "\n",
    "meshages = map_raster_to_mesh(even_mesh, age)"
   ]
  },
  {
   "cell_type": "code",
   "execution_count": null,
   "metadata": {},
   "outputs": [],
   "source": []
  },
  {
   "cell_type": "code",
   "execution_count": null,
   "metadata": {},
   "outputs": [],
   "source": [
    "plt.figure(figsize=(6, 6))\n",
    "ax = plt.subplot(111, projection=ccrs.Orthographic(central_longitude=0.1))\n",
    "\n",
    "ax.add_feature(coastline, edgecolor=\"black\", linewidth=0.5, zorder=3)\n",
    "\n",
    "plt.scatter(longitudes_in_degrees, latitudes_in_degrees, c=meshages, cmap=\"RdYlBu\",\n",
    "            vmin=0, vmax=250, s=20,\n",
    "            transform=ccrs.PlateCarree())"
   ]
  },
  {
   "cell_type": "markdown",
   "metadata": {},
   "source": [
    "## Exercise\n",
    "\n",
    "Can you make a plot like this but excluding all the areas on the land where the information is meaningless ?\n",
    "\n",
    "**Hint:** This is a numpy trick:\n",
    "\n",
    "```python\n",
    "valid_points = (age != -1)\n",
    "print(x[valid_points])\n",
    "print(age[valid_points])\n",
    "```\n",
    "\n"
   ]
  },
  {
   "cell_type": "code",
   "execution_count": null,
   "metadata": {},
   "outputs": [],
   "source": [
    "valid_points = (age != -1)\n",
    "print(x[valid_points])\n",
    "print(y[valid_points])\n",
    "print(age[valid_points])\n"
   ]
  },
  {
   "cell_type": "markdown",
   "metadata": {
    "execution": {
     "iopub.execute_input": "2024-05-10T10:14:27.319460Z",
     "iopub.status.busy": "2024-05-10T10:14:27.318503Z",
     "iopub.status.idle": "2024-05-10T10:14:27.335819Z",
     "shell.execute_reply": "2024-05-10T10:14:27.335120Z",
     "shell.execute_reply.started": "2024-05-10T10:14:27.319411Z"
    }
   },
   "source": [
    "Perhaps it would be a good idea to check the max / min values of the sub-sampled arrays. Here is some sample code\n",
    "\n",
    "```python\n",
    "print(age[valid_points].max())\n",
    "```"
   ]
  },
  {
   "cell_type": "code",
   "execution_count": null,
   "metadata": {},
   "outputs": [],
   "source": [
    "print(age[valid_points].max())\n"
   ]
  },
  {
   "cell_type": "code",
   "execution_count": null,
   "metadata": {},
   "outputs": [],
   "source": [
    "## Do something here !\n",
    "\n",
    "valid_lons = x[valid_points]\n",
    "valid_lats = y[valid_points]\n",
    "valid_data = age[valid_points]\n",
    "\n",
    "plt.figure(figsize=(6, 6))\n",
    "ax = plt.subplot(111, projection=ccrs.Orthographic(central_longitude=0.1))\n",
    "\n",
    "ax.add_feature(coastline, edgecolor=\"black\", linewidth=0.5, zorder=3)\n",
    "\n",
    "plt.scatter(valid_lons, valid_lats, c=valid_data, cmap=\"RdYlBu\",\n",
    "            vmin=0, vmax=250, s=20,\n",
    "            transform=ccrs.Geodetic())\n",
    "\n",
    "plt.show()"
   ]
  }
 ],
 "metadata": {
  "kernelspec": {
   "display_name": "Python 3 (ipykernel)",
   "language": "python",
   "name": "python3"
  },
  "language_info": {
   "codemirror_mode": {
    "name": "ipython",
    "version": 3
   },
   "file_extension": ".py",
   "mimetype": "text/x-python",
   "name": "python",
   "nbconvert_exporter": "python",
   "pygments_lexer": "ipython3",
   "version": "3.10.14"
  }
 },
 "nbformat": 4,
 "nbformat_minor": 4
}
