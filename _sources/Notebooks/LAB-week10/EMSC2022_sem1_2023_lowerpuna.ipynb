{
 "cells": [
  {
   "cell_type": "markdown",
   "metadata": {},
   "source": [
    "# Pu'u O'o vent collapse and the first fissure appearance during the 2018 eruption"
   ]
  },
  {
   "cell_type": "markdown",
   "metadata": {},
   "source": [
    "In this exercise, we will plot:\n",
    "1. a map of the Kilauea and the rift zone\n",
    "2. locations of the eruption activities, and associated seismic events\n",
    "3. snapshot of the seismic activity"
   ]
  },
  {
   "cell_type": "code",
   "execution_count": null,
   "metadata": {},
   "outputs": [],
   "source": [
    "%matplotlib inline\n",
    "\n",
    "import cartopy.crs as ccrs\n",
    "import cartopy.io.img_tiles as cimgt\n",
    "import matplotlib.pyplot as plt\n",
    "import numpy as np\n",
    "\n",
    "from obspy import UTCDateTime"
   ]
  },
  {
   "cell_type": "markdown",
   "metadata": {},
   "source": [
    "From the reports, populate the following details:"
   ]
  },
  {
   "cell_type": "code",
   "execution_count": null,
   "metadata": {},
   "outputs": [],
   "source": [
    "## Specify location of Pu'u O'o vent\n",
    "puu_oo_lat = ??????\n",
    "puu_oo_lon = ??????\n",
    "\n",
    "## Specify location of first fissure eruption\n",
    "puna_eruption_lat = ?????? \n",
    "puna_eruption_lon = ??????\n",
    "\n",
    "## Specify start time and end time of the eruption series (as a string)\n",
    "# Obspy scripts read data and time using function UTCDateTime.\n",
    "# Seismogram recordings and event catalogues are always in UTC (universal) time.\n",
    "# use format \"YYYY-MM-DDTHH:mm:ss\" e.g.: 2024-04-26T00:00:00 \n",
    "\n",
    "starttime = UTCDateTime(???????) # <--- pick time a day before Puuoo collapse\n",
    "endtime = UTCDateTime(???????) # <-- pick time a day after the first fissure appears\n"
   ]
  },
  {
   "cell_type": "code",
   "execution_count": null,
   "metadata": {},
   "outputs": [],
   "source": [
    "# for plotting purposes:\n",
    "\n",
    "# limit events occuring within the map boundary based on Pu'u O'o vent location\n",
    "minlongitude = puu_oo_lon-0.2\n",
    "maxlongitude = puu_oo_lon+0.3\n",
    "minlatitude = puu_oo_lat-0.2\n",
    "maxlatitude = puu_oo_lat+0.2\n",
    "\n",
    "# pick the background image (either satellite image or street)\n",
    "mapbox_satellite = cimgt.MapboxTiles(map_id='satellite', \n",
    "                                     access_token='pk.eyJ1IjoibG91aXNtb3Jlc2kiLCJhIjoiY2pzeG1mZzFqMG5sZDQ0czF5YzY1NmZ4cSJ9.lpsUzmLasydBlS0IOqe5JA')\n",
    "mapbox_streets = cimgt.MapboxTiles(map_id='streets', \n",
    "                                     access_token='pk.eyJ1IjoibG91aXNtb3Jlc2kiLCJhIjoiY2pzeG1mZzFqMG5sZDQ0czF5YzY1NmZ4cSJ9.lpsUzmLasydBlS0IOqe5JA')\n",
    "\n",
    "google_maps_street = cimgt.GoogleTiles(style=\"street\") \n",
    "google_maps_satellite = cimgt.GoogleTiles(style=\"satellite\") \n",
    "\n",
    "map_tiles = google_maps_satellite"
   ]
  },
  {
   "cell_type": "markdown",
   "metadata": {},
   "source": [
    "Now run the following cell to plot the map.\n",
    "Can you recognize the location of the caldera and various vents along the rift zone?"
   ]
  },
  {
   "cell_type": "code",
   "execution_count": null,
   "metadata": {},
   "outputs": [],
   "source": [
    "# plot map\n",
    "\n",
    "fig = plt.figure(dpi=200)\n",
    "\n",
    "# set the projection and extent of map\n",
    "projection=map_tiles.crs\n",
    "ax = fig.add_subplot(111,projection=projection)\n",
    "plot_extent = (minlongitude,maxlongitude,minlatitude,maxlatitude) #map boundary set by puu_oo_lat\n",
    "ax.set_extent(plot_extent)\n",
    "\n",
    "#plot satellite / street image\n",
    "ax.add_image(map_tiles, 12)\n",
    "\n",
    "# add gridlines to the plot\n",
    "gl = ax.gridlines(draw_labels=True, alpha=0.2, linestyle='--')\n",
    "gl.top_labels = None;  gl.right_labels = None\n",
    "\n",
    "# add title\n",
    "ax.set_title('Kilauea')\n",
    "\n",
    "# plot location of Pu'u O'o vent\n",
    "x, y, _ = projection.transform_points(ccrs.Geodetic(), np.array(puu_oo_lon), np.array(puu_oo_lat)).T\n",
    "ax.scatter(x, y, 30, color=\"#C68E17\", marker=\"o\", edgecolor=None, zorder=3)\n",
    "plt.text(x, y, 'vent', ha=\"right\",va=\"bottom\", color=\"#d3d3d3\", family=\"monospace\", fontsize='small')\n",
    "    \n",
    "# plot location of 2018 Lower puna eruption\n",
    "x, y, _ = projection.transform_points(ccrs.Geodetic(), np.array(puna_eruption_lon), np.array(puna_eruption_lat)).T\n",
    "ax.scatter(x, y, 30, color=\"#E47200\", marker=\"s\", edgecolor=None, zorder=3)\n",
    "plt.text(x, y, 'fissure \\neruption', color=\"#d3d3d3\", ha=\"right\", va=\"bottom\", family=\"monospace\", fontsize='small')   \n",
    "\n",
    "plt.show()"
   ]
  },
  {
   "cell_type": "markdown",
   "metadata": {},
   "source": [
    "Now we will get an inventory of the seismic stations operated by the Hawaiian Volcano Observatory during the time of eruption.\n",
    "\n",
    "The specific obspy function to use is 'get_stations'.\n",
    "\n",
    "We will specifically plot HVO seismometers (with network code \"HV\") that has a EHZ channel. EHZ is the channel name for the short period vertical component of the seismometer, which is more sensitive to the weak seismic events. "
   ]
  },
  {
   "cell_type": "code",
   "execution_count": null,
   "metadata": {},
   "outputs": [],
   "source": [
    "from obspy.clients.fdsn import Client\n",
    "\n",
    "client = Client(\"IRIS\") # we use IRIS as IRIS holds the seismic data and metadata (e.g., inventory info) \n",
    "\n",
    "network=\"HV\"  # network code for Hawaiian Volcano Observatory\n",
    "station=\"*\"   # * means include all stations\n",
    "channel=\"EHZ\" # component of the seismometer.  \n",
    "\n",
    "inv = client.get_stations(network=network,station=\"*\",location=\"\",\n",
    "                          channel=channel,level=\"channel\",\n",
    "                          starttime=starttime, endtime=endtime)\n",
    "print(inv)"
   ]
  },
  {
   "cell_type": "markdown",
   "metadata": {},
   "source": [
    "Run the next cell to make a new map, which includes the seismic stations you just found."
   ]
  },
  {
   "cell_type": "code",
   "execution_count": null,
   "metadata": {},
   "outputs": [],
   "source": [
    "# plot map with stations operated by HVO\n",
    "\n",
    "fig = plt.figure(dpi=200)\n",
    "\n",
    "# set the projection and extent of map\n",
    "projection=map_tiles.crs\n",
    "ax = fig.add_subplot(111,projection=projection)\n",
    "plot_extent = (minlongitude,maxlongitude,minlatitude,maxlatitude) #map boundary set by puu_oo_lat\n",
    "ax.set_extent(plot_extent)\n",
    "\n",
    "#plot satellite / street image\n",
    "ax.add_image(map_tiles, 12)\n",
    "\n",
    "# add gridlines to the plot\n",
    "gl = ax.gridlines(draw_labels=True, alpha=0.2, linestyle='--')\n",
    "gl.top_labels = None;  gl.right_labels = None\n",
    "\n",
    "# add title\n",
    "ax.set_title('Kilauea')\n",
    "\n",
    "# plot location of Pu'u O'o vent\n",
    "x, y, _ = projection.transform_points(ccrs.Geodetic(), np.array(puu_oo_lon), np.array(puu_oo_lat)).T\n",
    "ax.scatter(x, y, 30, color=\"#C68E17\", marker=\"o\", edgecolor=None, zorder=3)\n",
    "plt.text(x, y, 'vent', ha=\"right\",va=\"bottom\", color=\"#d3d3d3\", family=\"monospace\", fontsize='small')\n",
    "    \n",
    "# plot location of 2018 Lower puna eruption\n",
    "x, y, _ = projection.transform_points(ccrs.Geodetic(), np.array(puna_eruption_lon), np.array(puna_eruption_lat)).T\n",
    "ax.scatter(x, y, 30, color=\"#E47200\", marker=\"s\", edgecolor=None, zorder=3)\n",
    "plt.text(x, y, 'fissure \\neruption', color=\"#d3d3d3\", ha=\"right\", va=\"bottom\", family=\"monospace\", fontsize='small')   \n",
    "\n",
    "# HV stations\n",
    "stations = []; stla = []; stlo = []\n",
    "for sta in inv.networks[0].stations:\n",
    "    #print(sta.code)\n",
    "    stations.append(sta.code)\n",
    "    stla.append(sta.latitude)\n",
    "    stlo.append(sta.longitude)\n",
    "x, y, _ = projection.transform_points(ccrs.Geodetic(), np.array(stlo), np.array(stla)).T\n",
    "ax.scatter(x, y, 30, color=\"#D22B2B\", marker=\"v\", zorder=3)\n",
    "for i in range(len(stations)):\n",
    "    t = plt.text(x[i], y[i], stations[i], color=\"#d3d3d3\", va=\"top\", family=\"monospace\",fontsize='xx-small',clip_on=True)\n",
    "    t.clipbox = ax.bbox\n",
    "\n",
    "plt.show()"
   ]
  },
  {
   "cell_type": "markdown",
   "metadata": {},
   "source": [
    "We will now download a day-long time series from the station closest to the vent using the 'get_waveforms' function. \n",
    "\n",
    "We will need two inputs:\n",
    "- station name (4 digit code)\n",
    "- a start time (for the time series). Pick a time ~12 hours before the first major activity at the vent (in UTC!)\n",
    "\n",
    "If you get error messages saying FDSNNNoDataException, that means those stations are not operating (hence no data). "
   ]
  },
  {
   "cell_type": "code",
   "execution_count": null,
   "metadata": {},
   "outputs": [],
   "source": [
    "stationIN = ????????  # <--- input station name (as a string)\n",
    "\n",
    "# specify time frame for downloading data\n",
    "st_starttime = UTCDateTime(????????)  # <---- adjust start time!\n",
    "st_endtime = starttime + 24 * 60 * 60  \n",
    "\n",
    "stream = client.get_waveforms(network='HV',station = stationIN,\n",
    "                              location='',channel='EHZ',\n",
    "                              starttime=st_starttime, endtime=st_endtime)\n",
    "print(stream)\n"
   ]
  },
  {
   "cell_type": "markdown",
   "metadata": {},
   "source": [
    "There are many ways to plot the seismogram. One easy way to look a day-long time series is plotting a \"day plot\" using the obpys function. Run the following cell to see the plot:"
   ]
  },
  {
   "cell_type": "code",
   "execution_count": null,
   "metadata": {},
   "outputs": [],
   "source": [
    "stream.plot(type='dayplot',interval=60)"
   ]
  },
  {
   "cell_type": "markdown",
   "metadata": {},
   "source": [
    "Combined with recordings from other stations, seismologists are able to detect many seismic activities and put together an event catalog detailing their magnitude, origin time, and location. "
   ]
  },
  {
   "cell_type": "code",
   "execution_count": null,
   "metadata": {},
   "outputs": [],
   "source": [
    "# We will download a catalog of events occurring near the eruption site before the vent collapse \n",
    "# and shortly after first fissure appearance.\n",
    "# The catalog is compiled by U.S. Geological Survey, using these HV stations. \n",
    "\n",
    "client_catalog = Client(\"USGS\")  # switch client to USGS \n",
    "cat = client_catalog.get_events(starttime = starttime, endtime = endtime, \n",
    "                                      minlatitude = minlatitude, maxlatitude = maxlatitude,\n",
    "                                      minlongitude = minlongitude, maxlongitude = maxlongitude)\n",
    "print(cat.__str__(print_all=True))"
   ]
  },
  {
   "cell_type": "markdown",
   "metadata": {},
   "source": [
    "We will make a final plot showing the events on the map (colored by time). Run the following cell:"
   ]
  },
  {
   "cell_type": "code",
   "execution_count": null,
   "metadata": {},
   "outputs": [],
   "source": [
    "from matplotlib import cm\n",
    "from matplotlib.dates import DateFormatter,DayLocator\n",
    "\n",
    "# plot map with seismic events\n",
    "\n",
    "fig = plt.figure(dpi=200)\n",
    "\n",
    "# set the projection and extent of map\n",
    "projection=map_tiles.crs\n",
    "ax = fig.add_subplot(111,projection=projection)\n",
    "plot_extent = (minlongitude,maxlongitude,minlatitude,maxlatitude) #map boundary set by puu_oo_lat\n",
    "ax.set_extent(plot_extent)\n",
    "\n",
    "#plot satellite / street image\n",
    "ax.add_image(map_tiles, 12)\n",
    "\n",
    "# add gridlines to the plot\n",
    "gl = ax.gridlines(draw_labels=True, alpha=0.2, linestyle='--')\n",
    "gl.top_labels = None;  gl.right_labels = None\n",
    "\n",
    "# add title\n",
    "ax.set_title(' Seismicity between %s and %s ' %(starttime.strftime('%b %d'), endtime.strftime('%b %d')),fontsize=\"medium\")\n",
    "\n",
    "# plot location of seismic events\n",
    "otime_cb = []; evlat = []; evlon = []; evmag = []\n",
    "for event in cat:\n",
    "    otime_cb.append(event.origins[0].time.matplotlib_date)\n",
    "    evlat.append(event.origins[0].latitude)\n",
    "    evlon.append(event.origins[0].longitude)\n",
    "    evmag.append(event.magnitudes[0].mag)\n",
    "\n",
    "total_event = len(cat)\n",
    "colormap = cm.get_cmap('magma',total_event)\n",
    "\n",
    "x, y, _ = projection.transform_points(ccrs.Geodetic(), np.array(evlon), np.array(evlat)).T\n",
    "im = ax.scatter(x, y, s=evmag, c=otime_cb, cmap=colormap, marker=\"o\", edgecolor=None, zorder=3)\n",
    "cbar = plt.colorbar(im,orientation='horizontal',shrink=0.5,\n",
    "                  ticks=DayLocator(interval=1),\n",
    "                  format=DateFormatter('%b %d'))\n",
    "cbar.ax.tick_params(labelsize=6)\n",
    "\n",
    "# plot location of Pu'u O'o vent\n",
    "x, y, _ = projection.transform_points(ccrs.Geodetic(), np.array(puu_oo_lon), np.array(puu_oo_lat)).T\n",
    "ax.scatter(x, y, 30, color=\"#C68E17\", marker=\"o\", edgecolor=None, zorder=3)\n",
    "plt.text(x, y, 'vent', ha=\"right\",va=\"bottom\", color=\"#d3d3d3\", family=\"monospace\", fontsize='small')\n",
    "    \n",
    "# plot location of 2018 Lower puna eruption\n",
    "x, y, _ = projection.transform_points(ccrs.Geodetic(), np.array(puna_eruption_lon), np.array(puna_eruption_lat)).T\n",
    "ax.scatter(x, y, 30, color=\"#E47200\", marker=\"s\", edgecolor=None, zorder=3)\n",
    "plt.text(x, y, 'fissure \\neruption', color=\"#d3d3d3\", ha=\"right\", va=\"bottom\", family=\"monospace\", fontsize='small')   \n",
    "\n",
    "\n",
    "plt.show()"
   ]
  },
  {
   "cell_type": "code",
   "execution_count": null,
   "metadata": {
    "scrolled": false
   },
   "outputs": [],
   "source": [
    "# save images for every hour:\n",
    "\n",
    "kk = 0\n",
    "for hrIN in np.arange(starttime,endtime,3*60*60):\n",
    "    \n",
    "    print('Plotting ', hrIN)\n",
    "    \n",
    "    # plot location of seismic events\n",
    "    otime_cbIN = []; evlatIN = []; evlonIN = []; evmagIN = []\n",
    "    for event in cat:\n",
    "        if event.origins[0].time >= starttime and event.origins[0].time < hrIN:\n",
    "            otime_cbIN.append(event.origins[0].time.matplotlib_date)\n",
    "            evlatIN.append(event.origins[0].latitude)\n",
    "            evlonIN.append(event.origins[0].longitude)\n",
    "            evmagIN.append(event.magnitudes[0].mag)\n",
    "\n",
    "    fig = plt.figure(dpi=200)\n",
    "\n",
    "    # set the projection and extent of map\n",
    "    projection=map_tiles.crs\n",
    "    ax = fig.add_subplot(111,projection=projection)\n",
    "    plot_extent = (minlongitude,maxlongitude,minlatitude,maxlatitude) #map boundary set by puu_oo_lat\n",
    "    ax.set_extent(plot_extent)\n",
    "\n",
    "    #plot satellite / street image\n",
    "    ax.add_image(map_tiles, 12)\n",
    "\n",
    "    # add gridlines to the plot\n",
    "    gl = ax.gridlines(draw_labels=True, alpha=0.2, linestyle='--')\n",
    "    gl.top_labels = None;  gl.right_labels = None\n",
    "\n",
    "    # add title\n",
    "    ax.set_title('From Pu\\'u \\'O\\'o vent collapse to first fissure eruption',fontsize=\"medium\")\n",
    "\n",
    "    # plot location of Pu'u O'o vent\n",
    "    x, y, _ = projection.transform_points(ccrs.Geodetic(), np.array(puu_oo_lon), np.array(puu_oo_lat)).T\n",
    "    ax.scatter(x, y, 30, color=\"#C68E17\", marker=\"o\", edgecolor=None, zorder=3)\n",
    "    plt.text(x, y, 'vent', ha=\"right\",va=\"bottom\", color=\"#d3d3d3\", family=\"monospace\", fontsize='small')\n",
    "\n",
    "    # plot location of 2018 Lower puna eruption\n",
    "    x, y, _ = projection.transform_points(ccrs.Geodetic(), np.array(puna_eruption_lon), np.array(puna_eruption_lat)).T\n",
    "    ax.scatter(x, y, 30, color=\"#E47200\", marker=\"s\", edgecolor=None, zorder=3)\n",
    "    plt.text(x, y, 'fissure \\neruption', color=\"#d3d3d3\", ha=\"right\", va=\"bottom\", family=\"monospace\", fontsize='small')   \n",
    "\n",
    "    # plot events:\n",
    "    colormap = cm.get_cmap('magma',total_event)\n",
    "    x, y, _ = projection.transform_points(ccrs.Geodetic(), np.array(evlonIN), np.array(evlatIN)).T\n",
    "    im = ax.scatter(x, y, s=evmagIN, c=otime_cbIN, cmap=colormap, marker=\"o\", edgecolor=None, zorder=3)\n",
    "    \n",
    "    ## Add time stamp to the top left corner\n",
    "    plt.text(0.05, 0.95, hrIN.ctime(), color=\"#d3d3d3\",transform=ax.transAxes,fontsize=8, verticalalignment='top')\n",
    "\n",
    "\n",
    "    fileOUT = './Puuoo_eq_%03d.png' %(kk)\n",
    "    kk +=1\n",
    "    plt.savefig(fileOUT,dpi=250)\n",
    "    plt.close()\n",
    "\n"
   ]
  },
  {
   "cell_type": "markdown",
   "metadata": {},
   "source": [
    "Now view the eruption as an animation!"
   ]
  },
  {
   "cell_type": "code",
   "execution_count": null,
   "metadata": {},
   "outputs": [],
   "source": [
    "from PIL import Image\n",
    "import glob\n",
    "\n",
    "\n",
    "# Create the frames\n",
    "frames = []\n",
    "imgs = glob.glob('./Puuoo_eq_*.png')\n",
    "imgs.sort()\n",
    "for i in imgs:\n",
    "    new_frame = Image.open(i)\n",
    "    frames.append(new_frame)\n",
    "\n",
    "# Save into a GIF file that loops once!\n",
    "frames[0].save('./Pu_uo_o_eruption.gif',\n",
    "               format='GIF',\n",
    "               append_images=frames[1:],\n",
    "               save_all=True,\n",
    "               duration=2e-6, loop=1)"
   ]
  },
  {
   "cell_type": "code",
   "execution_count": null,
   "metadata": {},
   "outputs": [],
   "source": []
  }
 ],
 "metadata": {
  "kernelspec": {
   "display_name": "Python 3 (ipykernel)",
   "language": "python",
   "name": "python3"
  },
  "language_info": {
   "codemirror_mode": {
    "name": "ipython",
    "version": 3
   },
   "file_extension": ".py",
   "mimetype": "text/x-python",
   "name": "python",
   "nbconvert_exporter": "python",
   "pygments_lexer": "ipython3",
   "version": "3.9.7"
  }
 },
 "nbformat": 4,
 "nbformat_minor": 4
}
