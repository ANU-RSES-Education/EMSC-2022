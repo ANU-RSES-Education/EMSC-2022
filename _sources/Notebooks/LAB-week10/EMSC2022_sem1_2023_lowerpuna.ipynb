{
 "cells": [
  {
   "cell_type": "code",
   "execution_count": null,
   "metadata": {},
   "outputs": [],
   "source": [
    "%matplotlib inline\n",
    "\n",
    "import cartopy.crs as ccrs\n",
    "import cartopy.io.img_tiles as cimgt\n",
    "import matplotlib.pyplot as plt\n",
    "import numpy as np"
   ]
  },
  {
   "cell_type": "markdown",
   "metadata": {},
   "source": [
    "First, let's plot a map of Kilauea and rift zone, and also the location of Pu'u O'o vent and the first fissure appearance during the 2018 eruption.\n",
    "\n",
    "The Pu'u O'o vent location is also used to set the map boundary. "
   ]
  },
  {
   "cell_type": "code",
   "execution_count": null,
   "metadata": {},
   "outputs": [],
   "source": [
    "# location of Pu'u O'o vent\n",
    "puu_oo_lat = 19.386389\n",
    "puu_oo_lon = -155.1050\n",
    "\n",
    "# location of first fissure eruption\n",
    "puna_eruption_lat = 19.463 \n",
    "puna_eruption_lon = -154.899"
   ]
  },
  {
   "cell_type": "markdown",
   "metadata": {},
   "source": [
    "Now run the following cell to plot the map.\n",
    "Can you recognize the location of the caldera and various vents along the rift zone?"
   ]
  },
  {
   "cell_type": "code",
   "execution_count": null,
   "metadata": {},
   "outputs": [],
   "source": [
    "# plot\n",
    "fig = plt.figure(dpi=150)\n",
    "\n",
    "#plot terrain\n",
    "stamen_terrain = cimgt.Stamen('terrain-background')\n",
    "projection=stamen_terrain.crs # Set up a custom projection\n",
    "ax = fig.add_subplot(111,projection=projection)\n",
    "plot_extent = (puu_oo_lon-0.3, puu_oo_lon+0.3, puu_oo_lat-0.2, puu_oo_lat+0.15) #map boundary set by puu_oo_lat\n",
    "ax.set_extent(plot_extent)\n",
    "ax.add_image(stamen_terrain, 12)\n",
    "\n",
    "gl = ax.gridlines(draw_labels=True)\n",
    "gl.xlabels_top = None;  gl.ylabels_right = None\n",
    "ax.set_title(' Kilauea ')\n",
    "\n",
    "# plot location of Pu'u O'o vent\n",
    "x, y, _ = projection.transform_points(ccrs.Geodetic(), np.array(puu_oo_lon), np.array(puu_oo_lat)).T\n",
    "ax.scatter(x, y, 30, color=\"b\", marker=\"o\", edgecolor=\"k\", zorder=3)\n",
    "plt.text(x, y, 'vent', va=\"top\", family=\"monospace\", fontsize='small')\n",
    "    \n",
    "# plot location of 2018 Lower puna eruption\n",
    "x, y, _ = projection.transform_points(ccrs.Geodetic(), np.array(puna_eruption_lon), np.array(puna_eruption_lat)).T\n",
    "ax.scatter(x, y, 30, color=\"y\", marker=\"s\", edgecolor=\"k\", zorder=3)\n",
    "plt.text(x, y, 'eruption', va=\"top\", family=\"monospace\", fontsize='small')   \n",
    "\n",
    "\n",
    "plt.show()"
   ]
  },
  {
   "cell_type": "markdown",
   "metadata": {},
   "source": [
    "Now we will get an inventory of the seismic stations operated by the Hawaiian Volcano Observatory (network code \"HV\") using the 'get_stations' function.\n",
    "\n",
    "We will specifically plot seismometers that has a EHZ channel. EHZ is a channel name for the short period vertical component of the seismometer, which is more sensitive to the weak seismic events. "
   ]
  },
  {
   "cell_type": "code",
   "execution_count": null,
   "metadata": {},
   "outputs": [],
   "source": [
    "from obspy.clients.fdsn import Client\n",
    "\n",
    "client = Client(\"IRIS\") # we use IRIS as IRIS holds the seismic data and metadata (e.g., inventory info) \n",
    "\n",
    "network=\"HV\"  # network code for Hawaiian Volcano Observatory\n",
    "station=\"*\"   # * means include all stations\n",
    "channel=\"EHZ\" # component of the seismometer.  \n",
    "\n",
    "inv = client.get_stations(network=network,station=station,location=\"\",channel=channel,level=\"channel\")\n",
    "print(inv)"
   ]
  },
  {
   "cell_type": "markdown",
   "metadata": {},
   "source": [
    "Run the next cell to make a new map, which includes the seismic stations you just found."
   ]
  },
  {
   "cell_type": "code",
   "execution_count": null,
   "metadata": {
    "scrolled": true
   },
   "outputs": [],
   "source": [
    "fig = plt.figure(dpi=150)\n",
    "\n",
    "#plot map\n",
    "\n",
    "stamen_terrain = cimgt.Stamen('terrain-background')\n",
    "projection=stamen_terrain.crs # Set up a custom projection\n",
    "ax = fig.add_subplot(111,projection=projection)\n",
    "plot_extent = (puu_oo_lon-0.3, puu_oo_lon+0.3, puu_oo_lat-0.2, puu_oo_lat+0.15)\n",
    "ax.set_extent(plot_extent)\n",
    "ax.add_image(stamen_terrain, 12)\n",
    "\n",
    "gl = ax.gridlines(draw_labels=True)\n",
    "gl.xlabels_top = None;  gl.ylabels_right = None\n",
    "ax.set_title(' HV stations ')\n",
    " \n",
    "# Pu'u O'o vent\n",
    "x, y, _ = projection.transform_points(ccrs.Geodetic(), np.array(puu_oo_lon), np.array(puu_oo_lat)).T\n",
    "ax.scatter(x, y, 30, color=\"b\", marker=\"o\", edgecolor=\"k\", zorder=3)\n",
    "plt.text(x, y, 'vent', va=\"top\", family=\"monospace\", fontsize='small')\n",
    "    \n",
    "# 2018 Lower puna eruption\n",
    "x, y, _ = projection.transform_points(ccrs.Geodetic(), np.array(puna_eruption_lon), np.array(puna_eruption_lat)).T\n",
    "ax.scatter(x, y, 30, color=\"y\", marker=\"s\", edgecolor=\"k\", zorder=3)\n",
    "plt.text(x, y, 'eruption', va=\"top\", family=\"monospace\", fontsize='small')   \n",
    "\n",
    "# HV stations\n",
    "stations = []; stla = []; stlo = []\n",
    "for sta in inv.networks[0].stations:\n",
    "    #print(sta.code)\n",
    "    stations.append(sta.code)\n",
    "    stla.append(sta.latitude)\n",
    "    stlo.append(sta.longitude)\n",
    "x, y, _ = projection.transform_points(ccrs.Geodetic(), np.array(stlo), np.array(stla)).T\n",
    "ax.scatter(x, y, 30, color=\"r\", marker=\"v\", zorder=3)\n",
    "for i in range(len(stations)):\n",
    "    t = plt.text(x[i], y[i], stations[i], va=\"top\", family=\"monospace\",fontsize='xx-small',clip_on=True)\n",
    "    t.clipbox = ax.bbox\n",
    "\n",
    "plt.show()\n",
    "\n",
    "\n"
   ]
  },
  {
   "cell_type": "markdown",
   "metadata": {},
   "source": [
    "Let's refine the above map, to limit to stations that are running during the eruption.\n",
    "This is when we need to use UTCDateTime, which is how the obspy script reads date and time. Seismogram recordings and event catalogues are always in UTC (universal) time, so we will use UTC time.  "
   ]
  },
  {
   "cell_type": "code",
   "execution_count": null,
   "metadata": {},
   "outputs": [],
   "source": [
    "from obspy import UTCDateTime\n",
    "\n",
    "operating_starttime = UTCDateTime(\"2018-04-30T0:00:00\") \n",
    "\n",
    "inv = client.get_stations(network=network,station=\"*\",location=\"\",channel=channel,level=\"channel\",\n",
    "                         starttime = operating_starttime)\n",
    "print(inv)"
   ]
  },
  {
   "cell_type": "code",
   "execution_count": null,
   "metadata": {},
   "outputs": [],
   "source": [
    "fig = plt.figure(dpi=150)\n",
    "\n",
    "#plot map\n",
    "\n",
    "stamen_terrain = cimgt.Stamen('terrain-background')\n",
    "projection=stamen_terrain.crs # Set up a custom projection\n",
    "ax = fig.add_subplot(111,projection=projection)\n",
    "plot_extent = (puu_oo_lon-0.3, puu_oo_lon+0.3, puu_oo_lat-0.2, puu_oo_lat+0.15)\n",
    "ax.set_extent(plot_extent)\n",
    "ax.add_image(stamen_terrain, 12)\n",
    "\n",
    "gl = ax.gridlines(draw_labels=True)\n",
    "gl.xlabels_top = None;  gl.ylabels_right = None\n",
    "ax.set_title(' HV stations operating during the 2018 Eruption')\n",
    " \n",
    "# Pu'u O'o vent\n",
    "x, y, _ = projection.transform_points(ccrs.Geodetic(), np.array(puu_oo_lon), np.array(puu_oo_lat)).T\n",
    "ax.scatter(x, y, 30, color=\"b\", marker=\"o\", edgecolor=\"k\", zorder=3)\n",
    "plt.text(x, y, 'vent', va=\"top\", family=\"monospace\", fontsize='small')\n",
    "    \n",
    "# 2018 Lower puna eruption\n",
    "x, y, _ = projection.transform_points(ccrs.Geodetic(), np.array(puna_eruption_lon), np.array(puna_eruption_lat)).T\n",
    "ax.scatter(x, y, 30, color=\"y\", marker=\"s\", edgecolor=\"k\", zorder=3)\n",
    "plt.text(x, y, 'eruption', va=\"top\", family=\"monospace\", fontsize='small')   \n",
    "\n",
    "# HV stations\n",
    "stations = []; stla = []; stlo = []\n",
    "for sta in inv.networks[0].stations:\n",
    "    #print(sta.code)\n",
    "    stations.append(sta.code)\n",
    "    stla.append(sta.latitude)\n",
    "    stlo.append(sta.longitude)\n",
    "x, y, _ = projection.transform_points(ccrs.Geodetic(), np.array(stlo), np.array(stla)).T\n",
    "ax.scatter(x, y, 30, color=\"r\", marker=\"v\", zorder=3)\n",
    "for i in range(len(stations)):\n",
    "    t = plt.text(x[i], y[i], stations[i], va=\"top\", family=\"monospace\",fontsize='xx-small',clip_on=True)\n",
    "    t.clipbox = ax.bbox\n",
    "\n",
    "plt.show()"
   ]
  },
  {
   "cell_type": "markdown",
   "metadata": {},
   "source": [
    "We will now download a day-long time series from the station closest to the vent using the 'get_waveforms' function. \n",
    "\n",
    "We will need two inputs:\n",
    "- station name (4 digit code)\n",
    "- a start time (for the time series). Pick a time ~12 hours before the first major activity at the vent (in UTC!)\n",
    "\n",
    "If you get error messages saying FDSNNNoDataException, that means those stations are not operating (hence no data). "
   ]
  },
  {
   "cell_type": "code",
   "execution_count": null,
   "metadata": {},
   "outputs": [],
   "source": [
    "stationIN = 'KUPD'  # <--- input station name\n",
    "\n",
    "starttime = UTCDateTime(\"2016-05-10T13:00:00\")  # <---- adjust start time!\n",
    "endtime = starttime + 24 * 60 * 60  \n",
    "\n",
    "stream = client.get_waveforms(network='HV',station = stationIN,location='',channel='EHZ',starttime=starttime, endtime=endtime)\n",
    "print(stream)\n"
   ]
  },
  {
   "cell_type": "markdown",
   "metadata": {},
   "source": [
    "There are many ways to plot the seismogram. One easy way to look a day-long time series is plotting a \"day plot\" using the obpys function. Run the following cell to see the plot:"
   ]
  },
  {
   "cell_type": "code",
   "execution_count": null,
   "metadata": {},
   "outputs": [],
   "source": [
    "stream.plot(type='dayplot',interval=60)"
   ]
  },
  {
   "cell_type": "markdown",
   "metadata": {},
   "source": [
    "Combined with recordings from other stations, seismologists are able to detect many seismic activities and put together an event catalog detailing their magnitude, origin time, and location. \n",
    "\n",
    "We will need two inputs:\n",
    "- start time of the catalog\n",
    "- end time of the catalog"
   ]
  },
  {
   "cell_type": "code",
   "execution_count": null,
   "metadata": {},
   "outputs": [],
   "source": [
    "# start time and end time of the event catalog\n",
    "starttime = UTCDateTime(\"2018-07-29T0:00:00\") # <--- pick time a day before Puuoo collapse\n",
    "endtime = UTCDateTime(\"2018-010-04T0:00:00\") # <-- pick time a day after the first fissure appears\n",
    "\n",
    "# limit events occuring within the map boundary\n",
    "minlongitude = puu_oo_lon-0.3\n",
    "maxlongitude = puu_oo_lon+0.3\n",
    "minlatitude = puu_oo_lat-0.2\n",
    "maxlatitude = puu_oo_lat+0.15\n",
    "\n",
    "client_catalog = Client(\"USGS\")  # we switched client to USGS because we will use the catalog compiled by USGS.\n",
    "cat = client_catalog.get_events(starttime = starttime, endtime = endtime, \n",
    "                                      minlatitude = minlatitude, maxlatitude = maxlatitude,\n",
    "                                      minlongitude = minlongitude, maxlongitude = maxlongitude)\n",
    "print(cat.__str__(print_all=True))"
   ]
  },
  {
   "cell_type": "markdown",
   "metadata": {},
   "source": [
    "We will make a final plot showing the events on the map (colored by time). Run the following cell:"
   ]
  },
  {
   "cell_type": "code",
   "execution_count": null,
   "metadata": {},
   "outputs": [],
   "source": [
    "from matplotlib import cm\n",
    "from matplotlib.dates import DateFormatter,DayLocator\n",
    "\n",
    "fig = plt.figure(dpi=150)\n",
    "\n",
    "#plot background map\n",
    "stamen_terrain = cimgt.Stamen('terrain-background')\n",
    "projection=stamen_terrain.crs \n",
    "ax = fig.add_subplot(111,projection=projection)\n",
    "plot_extent = (puu_oo_lon-0.3, puu_oo_lon+0.3, puu_oo_lat-0.2, puu_oo_lat+0.15)\n",
    "ax.set_extent(plot_extent)\n",
    "ax.add_image(stamen_terrain, 10)\n",
    "gl = ax.gridlines(draw_labels=True)\n",
    "gl.xlabels_top = None;  gl.ylabels_right = None\n",
    "\n",
    "# set title\n",
    "ax.set_title(' Seismicity between %s and %s ' %(starttime.strftime('%b %d'), endtime.strftime('%b %d')))\n",
    " \n",
    "# plot locatino of Pu'u O'o vent\n",
    "x, y, _ = projection.transform_points(ccrs.Geodetic(), np.array(puu_oo_lon), np.array(puu_oo_lat)).T\n",
    "ax.scatter(x, y, 30, color=\"b\", marker=\"o\", edgecolor=\"k\", zorder=3)\n",
    "plt.text(x, y, 'vent', va=\"top\", family=\"monospace\", fontsize='small')\n",
    "    \n",
    "# plot location of 2018 Lower puna eruption\n",
    "x, y, _ = projection.transform_points(ccrs.Geodetic(), np.array(puna_eruption_lon), np.array(puna_eruption_lat)).T\n",
    "ax.scatter(x, y, 30, color=\"y\", marker=\"s\", edgecolor=\"k\", zorder=3)\n",
    "plt.text(x, y, 'eruption', va=\"top\", family=\"monospace\", fontsize='small')   \n",
    "\n",
    "# plot location of seismic events\n",
    "otime_cb = []; evlat = []; evlon = []; evmag = []\n",
    "for event in cat:\n",
    "    otime_cb.append(event.origins[0].time.matplotlib_date)\n",
    "    evlat.append(event.origins[0].latitude)\n",
    "    evlon.append(event.origins[0].longitude)\n",
    "    evmag.append(event.magnitudes[0].mag)\n",
    "\n",
    "total_event = len(cat)\n",
    "colormap = cm.get_cmap('magma',total_event)\n",
    "\n",
    "x, y, _ = projection.transform_points(ccrs.Geodetic(), np.array(evlon), np.array(evlat)).T\n",
    "im = ax.scatter(x, y, s=evmag, c=otime_cb, cmap=colormap, marker=\"o\", edgecolor=None, zorder=3)\n",
    "cb = plt.colorbar(im,orientation='horizontal',shrink=0.7,\n",
    "                  ticks=DayLocator(interval=1),\n",
    "                  format=DateFormatter('%b %d'))\n",
    "\n",
    "plt.show()"
   ]
  }
 ],
 "metadata": {
  "kernelspec": {
   "display_name": "Python 3 (ipykernel)",
   "language": "python",
   "name": "python3"
  },
  "language_info": {
   "codemirror_mode": {
    "name": "ipython",
    "version": 3
   },
   "file_extension": ".py",
   "mimetype": "text/x-python",
   "name": "python",
   "nbconvert_exporter": "python",
   "pygments_lexer": "ipython3",
   "version": "3.9.7"
  }
 },
 "nbformat": 4,
 "nbformat_minor": 4
}
