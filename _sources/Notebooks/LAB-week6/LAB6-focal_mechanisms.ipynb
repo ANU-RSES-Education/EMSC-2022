{
 "cells": [
  {
   "cell_type": "markdown",
   "metadata": {},
   "source": [
    "## LAB 4 - Focal Mechanisms\n",
    "\n",
    "In seismology research, we deal with large volumes of time-series data. Python provides an excellent set of tools for handling these data: `Obspy`. \n",
    "\n",
    "```python\n",
    "import glob\n",
    "from obspy.core import read\n",
    "```\n",
    "The second line here imports the obspy package for dealing with seismic data.\n",
    "\n",
    "We can also import some of the familar toolkits we have been using already:\n",
    "\n",
    "```python\n",
    "#you can use these libraries by refering to their appreviation plt., np. or pd.\n",
    "#basic plotting library\n",
    "import matplotlib.pyplot as plt\n",
    "\n",
    "#scientifc computing library\n",
    "import numpy as np\n",
    "\n",
    "#data analysis tool\n",
    "import pandas as pd\n",
    "```\n",
    "\n"
   ]
  },
  {
   "cell_type": "code",
   "execution_count": null,
   "metadata": {},
   "outputs": [],
   "source": [
    "# Try it here!\n",
    "\n",
    "import glob\n",
    "from obspy.core import read\n",
    "\n",
    "import matplotlib.pyplot as plt\n",
    "\n",
    "#scientifc computing library\n",
    "import numpy as np\n",
    "\n",
    "#data analysis tool\n",
    "import pandas as pd\n",
    "\n",
    "for file in glob.glob('*.z'):\n",
    "    st = read(file)\n",
    "    tr = st[0]\n",
    "    msg = \"%s %s %f %f\" % (tr.stats.station, str(tr.stats.starttime),\n",
    "                           tr.data.mean(), tr.data.std())\n",
    "    print(msg)"
   ]
  },
  {
   "cell_type": "markdown",
   "metadata": {},
   "source": [
    "We can make focal mechanism or beachball plots using obspy.\n",
    "\n",
    "Here are three examples of different faulting mechanisms.  Identify each one.\n",
    "\n",
    "Then try change the color of the plots, their size, and orientation of the fault."
   ]
  },
  {
   "cell_type": "code",
   "execution_count": null,
   "metadata": {},
   "outputs": [],
   "source": [
    "from obspy.imaging.beachball import beachball"
   ]
  },
  {
   "cell_type": "markdown",
   "metadata": {},
   "source": [
    "The focal mechanism can be given by 3 (strike, dip, and\n",
    "rake) components."
   ]
  },
  {
   "cell_type": "code",
   "execution_count": null,
   "metadata": {},
   "outputs": [],
   "source": [
    "focalmechs = [150, 87, 1]\n",
    "beachball(focalmechs) "
   ]
  },
  {
   "cell_type": "markdown",
   "metadata": {},
   "source": [
    "Try changing the inputs/components to make the 3 major types of faults."
   ]
  },
  {
   "cell_type": "code",
   "execution_count": null,
   "metadata": {},
   "outputs": [],
   "source": [
    "#Try it here"
   ]
  },
  {
   "cell_type": "markdown",
   "metadata": {},
   "source": [
    "### For those of you who have background in tensors.\n",
    "\n",
    "You can also make focal mechanisms based upon the 6 independent components of the moment tensor (Mxx, Myy,\n",
    "Mzz, Mxy, Mxz, Myz)."
   ]
  },
  {
   "cell_type": "code",
   "execution_count": null,
   "metadata": {},
   "outputs": [],
   "source": [
    "#Try it here \n",
    "mt = [0.91, -0.89, -0.02, 1.78, -1.55, 0.47]\n",
    "beachball(mt, size=200, linewidth=2, facecolor='b')\n",
    "\n",
    "mt2 = [50, 90, 1]\n",
    "beachball(mt2, size=200, linewidth=2, facecolor='r')\n",
    "\n",
    "mt3 = [-2.39, 1.04, 1.35, 0.57, -2.94, -0.94]\n",
    "beachball(mt3, size=200, linewidth=2, facecolor='g')"
   ]
  },
  {
   "cell_type": "code",
   "execution_count": null,
   "metadata": {},
   "outputs": [],
   "source": []
  }
 ],
 "metadata": {
  "kernelspec": {
   "display_name": "Python 3",
   "language": "python",
   "name": "python3"
  },
  "language_info": {
   "codemirror_mode": {
    "name": "ipython",
    "version": 3
   },
   "file_extension": ".py",
   "mimetype": "text/x-python",
   "name": "python",
   "nbconvert_exporter": "python",
   "pygments_lexer": "ipython3",
   "version": "3.7.6"
  }
 },
 "nbformat": 4,
 "nbformat_minor": 2
}
