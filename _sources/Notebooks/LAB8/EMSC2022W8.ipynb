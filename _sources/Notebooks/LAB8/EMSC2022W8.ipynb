{
 "cells": [
  {
   "cell_type": "markdown",
   "metadata": {
    "deletable": false,
    "editable": false,
    "run_control": {
     "frozen": true
    }
   },
   "source": [
    " <div style=\"clear: left;\">\n",
    " <p style=\"float: left;\"><img src=\"https://world.wng.org/sites/default/files/Beginnings%203-22.1.jpg\" height=\"150\" width=\"350\" border=\"10\"></p>\n",
    " </div>\n",
    " <center><p><H1>Welcome to EMSC Geophysics</H1></p>\n",
    " <p><H1>EMSC2022: Introduction to Global Geophysics</H1><p>\n",
    " <p><H1>Semester 1: Week 8 Practical</H1><p>\n",
    " <p><H2>Instructor: Dave Heslop (david.heslop@anu.edu.au)</H2><p>"
   ]
  },
  {
   "cell_type": "markdown",
   "metadata": {
    "deletable": false,
    "editable": false,
    "run_control": {
     "frozen": true
    }
   },
   "source": [
    "<font color=\"red\"><hr style=\"border:none;height:3px;background-color:black;width:950px;\"></center>\n",
    "<center><p><H1>The learning objectives for this practical are:</H1></p>\n",
    "<center><p><H2>(1) Estimating the position of an Euler pole.</H2></p>\n",
    "<center><p><H2>(2) Understanding how the properties of an Euler pole relate to relative plate motions.</H2></p>\n",
    "<center><p><H2>(3) Processing data and creating models in Python.</H2></p></font> \n",
    "    <hr style=\"border:none;height:3px;background-color:black;width:950px;\"></center>\n",
    "<center><p><H1>Materials you'll require for this practical are:</H1></p>\n",
    "<center><p><H2>(1) Pencil and paper for sketching ideas</H2></p>\n",
    "<center><p><H2>(2) Laptop</H2></p>\n",
    "<center><p><H2>(3) &#9749; &#x2795; &#129504;</H2></p> "
   ]
  },
  {
   "cell_type": "markdown",
   "metadata": {
    "deletable": false,
    "editable": false,
    "run_control": {
     "frozen": true
    }
   },
   "source": [
    "<hr style=\"border:none;height:3px;background-color:black;width:950px;\"></center>\n",
    "\n",
    "# Introduction\n",
    "The philosophy of this practical is different to our previous sessions. Typically, we provide you a sequence of tasks to complete that lead you to a final answer and a demonstration of a given concept. In this practical we will take a \"reseach-lead\" approach, where you will conceive for yourself the scientific steps required to represent a plate tectonic process.   \n",
    "\n",
    "Your challenge is to devise a technique to estimate the properties of an Euler pole that approximates the relative motion of the South America and Africa tectonic plates over the last 47 million years. \n",
    "\n",
    "Specifically, you should consider that the spreading rate at mid-ocean ridges is expected to vary as the sine of angle between the Euler pole and a given point on the ridge (we discussed this in the lectures).\n",
    "\n",
    "The most important aspect of this practical exercise is for you to consider in detail how you can use the information available to estimate a pole position. Once you have developed a plan for estimating the Euler pole, then you can try to code it below. ***However, the key aim of this practical is for you to develop the concept and details of your estimation process, rather than your ability to code it in Python.***\n",
    "\n",
    "### Observations: Magnetic anomaly 21 in the South Atlantic\n",
    "\n",
    "The map below shows a locations of the mid-Atlantic ridge and magnetic anomaly 21 in the South Atlantic between South America and Africa. Red lines and points on the map indicate transect locations where the position of magnetic anomaly 21 and the ridge have been recorded within given transform faults. Each transect is marked with a different letter for identification.\n",
    "\n",
    " <p><img src=\"https://www.dropbox.com/s/2bcaavco6urt3d7/Practical%208%20-%20MAP%20A.jpg?raw=1\" height=\"150\" width=\"900\" border=\"10\"></p>\n",
    " \n",
    "The positions (latitude and longitude) of the ridge and magnetic anomaly 21 on the western and eastern flanks are given in the table below for each transect.\n",
    "\n",
    " <p><img src=\"https://www.dropbox.com/s/955atmexyb7nx85/Anomaly%20position%20table.jpg?raw=1\" height=\"150\" width=\"900\" border=\"10\"></p>\n",
    "\n",
    "\n",
    "# Your challenge\n",
    "***(1) Working in groups or alone, devise a method to estimate the Euler pole that is most consistent with the seafloor spreading information provided in the table above.***\n",
    "\n",
    "***(2) Write Python code in this Jupyter notebook to implement your method to estimate the Euler pole.*** The code below shows you how to enter the positional data. Once that is done, then you should implement your method."
   ]
  },
  {
   "cell_type": "markdown",
   "metadata": {
    "deletable": false,
    "editable": false,
    "run_control": {
     "frozen": true
    }
   },
   "source": [
    "<hr style=\"border:none;height:3px;background-color:black;\">\n",
    "\n",
    "## Entering the available positional information\n",
    "We'll enter the data sequentially, first entering the positions along the mid-ocean ridge and then the positions of magnetic anomaly 21 on the western and eastern flanks of the ridge. We can enter the latitude and longitude of our positions along the ridge as NumPy arrays. Therefore, we start by importing the NumPy package, which we'll give the abbreviation ```np```."
   ]
  },
  {
   "cell_type": "code",
   "execution_count": 1,
   "metadata": {},
   "outputs": [],
   "source": [
    "import numpy as np"
   ]
  },
  {
   "cell_type": "markdown",
   "metadata": {
    "deletable": false,
    "editable": false,
    "run_control": {
     "frozen": true
    }
   },
   "source": [
    "<hr style=\"border:none;height:1px;background-color:black;\">\n",
    "\n",
    "### Positions along the mid-ocean ridge\n",
    "We'll use our standard nomenclature, where latitudes and longitudes are given the symbols $\\lambda$ and $\\phi$, respectively. \n",
    "\n",
    "For the positions along the ridge, we'll use the variable names:\n",
    "\n",
    "```lambda_R``` = latitude on the ridge (i.e., $\\lambda_R$) \n",
    "\n",
    "```phi_R``` = longitude on the ridge (i.e., $\\phi_R$)\n",
    "\n",
    "You can see the numbers entered into the functions correspond to the ridge latitudes and longitudes provided in the original data table."
   ]
  },
  {
   "cell_type": "code",
   "execution_count": 2,
   "metadata": {},
   "outputs": [],
   "source": [
    "lambda_R = np.array([-8.86,-12.03,-14.41,-17.95,-19.54,-20.58,-22.17,\n",
    "                     -23.33,-24.86,-26.56,-29.56,-31.88,-32.73,-36.95,-40.12,-42.08])\n",
    "phi_R = np.array([-12.40,-13.55,-12.47,-11.99,-10.84,-10.70,-12.60,\n",
    "                  -12.33,-13.08,-11.99,-12.53,-13.55,-13.69,-16.33,-15.45,-15.11])"
   ]
  },
  {
   "cell_type": "markdown",
   "metadata": {
    "deletable": false,
    "editable": false,
    "run_control": {
     "frozen": true
    }
   },
   "source": [
    "<hr style=\"border:none;height:1px;background-color:black;\">\n",
    "\n",
    "### Magnetic anomaly 21 positional data along the western flank\n",
    "For the western flank magnetic anomaly positions, we'll use the variable names:\n",
    "\n",
    "```lambda_W``` = latitude on the western flank (i.e., $\\lambda_W$) \n",
    "\n",
    "```phi_W``` = longitude on the western flank (i.e., $\\phi_W$)"
   ]
  },
  {
   "cell_type": "code",
   "execution_count": 3,
   "metadata": {},
   "outputs": [],
   "source": [
    "lambda_W = np.array([-10.26,-13.25,-16.00,-19.05,-21.01,-22.17,-23.21,\n",
    "                     -24.86,-26.20,-27.97,-30.90,-33.04,-34.69,-37.74,-41.16,-43.11])\n",
    "phi_W = np.array([-21.83,-24.07,-23.05,-22.17,-21.09,-21.63,-22.51,\n",
    "                  -23.46,-23.33,-22.65,-23.46,-25.50,-27.47,-28.62,-28.82,-29.91])"
   ]
  },
  {
   "cell_type": "markdown",
   "metadata": {
    "deletable": false,
    "editable": false,
    "run_control": {
     "frozen": true
    }
   },
   "source": [
    "<hr style=\"border:none;height:1px;background-color:black;\">\n",
    "\n",
    "### Magnetic anomaly 21 positional data along the eastern flank\n",
    "For the eastern flank magnetic anomaly positions, we'll use the variable names:\n",
    "\n",
    "```lambda_E``` = latitude on the eastern flank (i.e., $\\lambda_E$) \n",
    "\n",
    "```phi_E``` = longitude on the eastern flank (i.e., $\\phi_E$)"
   ]
  },
  {
   "cell_type": "code",
   "execution_count": 4,
   "metadata": {},
   "outputs": [],
   "source": [
    "lambda_E = np.array([-7.02,-10.63,-13.13,-15.82,-17.47,-18.69,-19.91,\n",
    "                     -21.56,-22.90,-24.37,-27.18,-29.86,-31.51,-34.69,-37.92,-40.06])\n",
    "phi_E = np.array([-3.98,-6.09,-3.85,-2.29,-1.06,-1.67,-2.62,-3.03,\n",
    "                  -2.83,-1.61,-1.33,-2.49,-3.37,-4.73,-4.32,-4.52])"
   ]
  },
  {
   "cell_type": "markdown",
   "metadata": {
    "deletable": false,
    "editable": false,
    "run_control": {
     "frozen": true
    }
   },
   "source": [
    "### We need to work in radians\n",
    "NumPy assumes that all angles are in radians. Therefore, it is simplest to transform all of out latitudes and longitudes into radians at this stage. This is done using the NumPy ```deg2rad``` functions, which as the names suggests, converts values from degrees into radians."
   ]
  },
  {
   "cell_type": "code",
   "execution_count": 5,
   "metadata": {},
   "outputs": [],
   "source": [
    "lambda_R = np.deg2rad(lambda_R) #convert the ridge latitudes to radians\n",
    "phi_R = np.deg2rad(phi_R) #convert the ridge longitudes to radians\n",
    "lambda_W = np.deg2rad(lambda_W) #convert the western flank latitudes to radians\n",
    "phi_W = np.deg2rad(phi_W) #convert the western flank longitudes to radians\n",
    "lambda_E = np.deg2rad(lambda_E) #convert the eastern flank latitudes to radians\n",
    "phi_E = np.deg2rad(phi_E) #convert the eastern flank latitudes to radians"
   ]
  },
  {
   "cell_type": "markdown",
   "metadata": {
    "deletable": false,
    "editable": false,
    "run_control": {
     "frozen": true
    }
   },
   "source": [
    "We have now completed the input of our positional data and we have converted it into radians so that is is compatible with NumPy.\n",
    "\n",
    "<font color=\"red\"><hr style=\"border:none;height:3px;background-color:black;width:950px;\"></center>\n",
    "<center><p><H1>Now it's your turn</H1></p></font> \n",
    "\n",
    "### Enter your Python code here:"
   ]
  },
  {
   "cell_type": "code",
   "execution_count": 6,
   "metadata": {},
   "outputs": [],
   "source": []
  }
 ],
 "metadata": {
  "kernelspec": {
   "display_name": "Python 3",
   "language": "python",
   "name": "python3"
  },
  "language_info": {
   "codemirror_mode": {
    "name": "ipython",
    "version": 3
   },
   "file_extension": ".py",
   "mimetype": "text/x-python",
   "name": "python",
   "nbconvert_exporter": "python",
   "pygments_lexer": "ipython3",
   "version": "3.6.6"
  }
 },
 "nbformat": 4,
 "nbformat_minor": 2
}
