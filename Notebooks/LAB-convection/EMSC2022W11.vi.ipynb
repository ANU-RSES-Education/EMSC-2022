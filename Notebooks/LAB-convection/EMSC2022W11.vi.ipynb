{
 "cells": [
  {
   "cell_type": "markdown",
   "metadata": {},
   "source": [
    "# EMSC Week 11 - A detailed look at the depth-age relationship for the seafloor.\n",
    "\n",
    "Extra - what happens if we try to fit the data ?\n",
    "\n",
    "We have a theoretical relationship that we have been trying to see in the data\n",
    "\n",
    "$$\n",
    "    d = d_0 + \\alpha \\sqrt{t \\,}\n",
    "$$\n",
    "\n",
    "We can always try to see what happens if we fit the data to find $d_0$ and $\\alpha$\n",
    "\n",
    "## Navigation\n",
    "\n",
    "  - the [first notebook:EMSC2022W11.i.ipynb](EMSC2022W11.i.ipynb)\n",
    "\n",
    "## First a grid at fine resolution"
   ]
  },
  {
   "cell_type": "code",
   "execution_count": null,
   "metadata": {},
   "outputs": [],
   "source": [
    "import stripy\n",
    "import numpy as np\n",
    "import matplotlib.pyplot as plt\n",
    "%matplotlib inline\n",
    "\n",
    "even_mesh = stripy.spherical_meshes.icosahedral_mesh(include_face_points=True, tree=True, refinement_levels=6)\n",
    "number_of_mesh_points = even_mesh.npoints\n",
    "\n",
    "latitudes_in_radians = even_mesh.lats\n",
    "latitudes_in_degrees = np.degrees(latitudes_in_radians) \n",
    "\n",
    "longitudes_in_radians = even_mesh.lons \n",
    "longitudes_in_degrees = np.degrees(longitudes_in_radians)%360.0 - 180.0"
   ]
  },
  {
   "cell_type": "markdown",
   "metadata": {},
   "source": [
    "## Find the age and depth values on these points \n",
    "\n",
    "As before, we interpolate each of our datasets to the same set of grid points. First we need \n",
    "to define the interpolation routine again."
   ]
  },
  {
   "cell_type": "code",
   "execution_count": null,
   "metadata": {},
   "outputs": [],
   "source": [
    "def map_raster_to_mesh(mesh, latlongrid):\n",
    "    \n",
    "    raster = latlongrid.T\n",
    "\n",
    "    latitudes_in_radians  = mesh.lats\n",
    "    longitudes_in_radians = mesh.lons \n",
    "    latitudes_in_degrees  = np.degrees(latitudes_in_radians) \n",
    "    longitudes_in_degrees = np.degrees(longitudes_in_radians)%360.0 - 180.0\n",
    "\n",
    "    dlons = np.mod(longitudes_in_degrees+180.0, 360.0)\n",
    "    dlats = np.mod(latitudes_in_degrees+90, 180.0)\n",
    "\n",
    "    ilons = raster.shape[0] * dlons / 360.0\n",
    "    ilats = raster.shape[1] * dlats / 180.0\n",
    "\n",
    "    icoords = np.array((ilons, ilats))\n",
    "\n",
    "    from scipy import ndimage\n",
    "\n",
    "    mvals = ndimage.map_coordinates(raster, icoords , order=3, mode='nearest').astype(float)\n",
    "    \n",
    "    return mvals\n",
    "\n"
   ]
  },
  {
   "cell_type": "markdown",
   "metadata": {},
   "source": [
    "## Interpolate age data to fine, triangular grid.\n",
    "\n",
    "(You can plot the results as before to see that you have not made a mistake)\n",
    "\n",
    "``` python \n",
    "plt.figure(figsize=(6, 6))\n",
    "ax = plt.subplot(111, projection=ccrs.Orthographic(central_longitude=0.1))\n",
    "\n",
    "ax.add_feature(coastline, edgecolor=\"black\", linewidth=0.5, zorder=3)\n",
    "\n",
    "plt.scatter(longitudes_in_degrees, latitudes_in_degrees, c=meshages, cmap=\"RdYlBu\",\n",
    "            vmin=0, vmax=250, s=5,\n",
    "            transform=ccrs.Geodetic())\n",
    "```"
   ]
  },
  {
   "cell_type": "code",
   "execution_count": null,
   "metadata": {},
   "outputs": [],
   "source": [
    "import xarray\n",
    "\n",
    "age_dataset = \"data/age.3.6.nc\"\n",
    "age_data = xarray.open_dataset(age_dataset)\n",
    "subs_data = age_data.sel(x=slice(-180,180, 1), y=slice(-90, 90, 1))\n",
    "\n",
    "lons = subs_data.coords.get('x')\n",
    "lats = subs_data.coords.get('y')\n",
    "vals = subs_data['z']\n",
    "\n",
    "x,y = np.meshgrid(lons.data, lats.data)\n",
    "age = vals.data / 100.0\n",
    "age[np.isnan(age)] = -1.0\n",
    "\n",
    "meshages = map_raster_to_mesh(even_mesh, age)"
   ]
  },
  {
   "cell_type": "code",
   "execution_count": null,
   "metadata": {},
   "outputs": [],
   "source": [
    "(left, bottom, right, top) = (-180, -90, 180, 90)\n",
    "map_extent = ( left, right, bottom, top)\n",
    "\n",
    "etopo_dataset = \"http://thredds.socib.es/thredds/dodsC/ancillary_data/bathymetry/ETOPO1_Bed_g_gmt4.nc\"\n",
    "etopo_data = xarray.open_dataset(etopo_dataset)\n",
    "subs_data = etopo_data.sel(x=slice(left,right, 30), y=slice(bottom, top, 30))\n",
    "\n",
    "lons = subs_data.coords.get('x')\n",
    "lats = subs_data.coords.get('y')\n",
    "vals = subs_data['z']\n",
    "\n",
    "x,y = np.meshgrid(lons.data, lats.data)\n",
    "height = vals.data\n",
    "\n",
    "meshheights = map_raster_to_mesh(even_mesh, height)"
   ]
  },
  {
   "cell_type": "markdown",
   "metadata": {},
   "source": [
    "## Interpolate height data to fine, triangular grid.\n",
    "\n",
    "(You can plot the results as before to see that you have not made a mistake)\n",
    "\n",
    "You also should make a decision about the resolution of the data you want to download.\n",
    "\n",
    "```python\n",
    "plt.figure(figsize=(6, 6))\n",
    "ax = plt.subplot(111, projection=ccrs.Orthographic(central_longitude=0.1))\n",
    "\n",
    "ax.add_feature(coastline, edgecolor=\"black\", linewidth=0.5, zorder=3)\n",
    "\n",
    "plt.scatter(longitudes_in_degrees, latitudes_in_degrees, c=meshheights, cmap=\"terrain\",\n",
    "            vmin=-5000, vmax=5000, s=2,\n",
    "            transform=ccrs.Geodetic())\n",
    "```"
   ]
  },
  {
   "cell_type": "code",
   "execution_count": null,
   "metadata": {},
   "outputs": [],
   "source": []
  },
  {
   "cell_type": "code",
   "execution_count": null,
   "metadata": {},
   "outputs": [],
   "source": [
    "plt.figure(figsize=(6, 6))\n",
    "ax = plt.subplot(111)\n",
    "ax.set_xlim(0,150)\n",
    "ax.set_ylim(-7000,-2000)\n",
    "\n",
    "plt.scatter( meshages[meshheights<-2000],\n",
    "             meshheights[meshheights<-2000], \n",
    "             alpha=0.2, marker=\"+\")"
   ]
  },
  {
   "cell_type": "markdown",
   "metadata": {},
   "source": [
    "## Now use `scipy.optimise`\n",
    "\n",
    "The scipy bundle of useful tools has some curve-fitting routines. \n",
    "\n",
    "You can read the instructions for `scipy.optimise.curve_fit()` at the [scipy website](https://docs.scipy.org/doc/scipy/reference/generated/scipy.optimize.curve_fit.html) \n"
   ]
  },
  {
   "cell_type": "code",
   "execution_count": null,
   "metadata": {},
   "outputs": [],
   "source": [
    "from scipy import optimize\n",
    "import numpy as np\n",
    "\n",
    "## First define the function that we are going to fit\n",
    "\n",
    "def depth_age_fn(age, d0, alpha):\n",
    "    return d0 + alpha * np.sqrt(age)\n",
    "\n",
    "## Now we need to check the data (interpolation can do weird things)\n",
    "\n",
    "print(meshages.min(), meshages.max())\n",
    "print(meshheights.min(), meshheights.max())\n",
    "\n",
    "## Only fit data for valid ages\n",
    "\n",
    "valid_age_locations = (meshages > 0)\n",
    "\n",
    "meshages_1 = meshages[valid_age_locations]\n",
    "meshheights_1 = meshheights[valid_age_locations]\n",
    "\n",
    "## Now limit the data to the deep ocean\n",
    "\n",
    "valid_depth_locations = (meshheights_1 < -2000)\n",
    "\n",
    "meshages_2 = meshages_1[valid_depth_locations]\n",
    "meshheights_2 = meshheights_1[valid_depth_locations]\n"
   ]
  },
  {
   "cell_type": "code",
   "execution_count": null,
   "metadata": {},
   "outputs": [],
   "source": [
    "## Something like this:\n",
    "## popt, pcov = optimize.curve_fit(f, ages, heights )\n",
    "## d0, alpha = popt\n",
    "## fitted_heights = depth_age_fn(ages, d0, alpha)"
   ]
  },
  {
   "cell_type": "markdown",
   "metadata": {},
   "source": [
    "## Plot the results of the fitting exercise\n",
    "\n",
    "Is this what you would expect from looking at this by eye ?\n",
    "\n",
    "Now add the curves from Stein & Stein (1992)\n",
    "\n",
    "$$\n",
    "h(t) = \n",
    "    \\begin{cases}\n",
    "        -2600 - 365 t^{1/2}  & \\textrm{when} \\quad t < 20 \\textrm{Myr}\\\\\n",
    "        -5651 + 2473 \\exp \\left(-0.0278 t \\right)  & \\textrm{when} \\quad t \\ge 20 \\textrm{Myr}\\\\\n",
    "    \\end{cases}\n",
    "$$\n",
    "\n",
    "Note their values for $d_0$ and $\\alpha$ !\n"
   ]
  },
  {
   "cell_type": "code",
   "execution_count": null,
   "metadata": {},
   "outputs": [],
   "source": []
  },
  {
   "cell_type": "code",
   "execution_count": null,
   "metadata": {},
   "outputs": [],
   "source": []
  }
 ],
 "metadata": {
  "kernelspec": {
   "display_name": "Python 3 (ipykernel)",
   "language": "python",
   "name": "python3"
  },
  "language_info": {
   "codemirror_mode": {
    "name": "ipython",
    "version": 3
   },
   "file_extension": ".py",
   "mimetype": "text/x-python",
   "name": "python",
   "nbconvert_exporter": "python",
   "pygments_lexer": "ipython3",
   "version": "3.10.14"
  }
 },
 "nbformat": 4,
 "nbformat_minor": 4
}
