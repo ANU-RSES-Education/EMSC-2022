{
 "cells": [
  {
   "attachments": {},
   "cell_type": "markdown",
   "metadata": {},
   "source": [
    "# EMSC Week 11 - A detailed look at the depth-age relationship for the seafloor.\n",
    "\n",
    "The convective boundary-layer theory predicts that there should be a strong relationship between the age of the seafloor and the thickness of the lithosphere. The thickness should be proportional to the square root of the age of the lithosphere (or the distance from the mid-ocean ridge if we assume near-constant plate velocity over time and plate rigidity)\n",
    "<div>\n",
    "<img src=\"Images/blt.png\" width=\"50%\"/>\n",
    "</div>\n",
    "\n",
    "We saw in the lectures that this relationship also implies that the depth of the oceans should follow the same pattern. The example that we have from the lecture notes is taken from the original edition of the book by Turcotte and Schubert and it is based on quite limited information. We can get more extensive datasets on line and see how that works for us.\n",
    "\n",
    "<div>\n",
    "<img src=\"Images/LithosphereDepthAge.png\" width=\"40%\"/>\n",
    "</div>\n",
    "\n",
    "\n",
    "### Required background\n",
    "\n",
    "In this week's lab we will be revisiting an earlier lab in which we made maps with the `cartopy` package and `matplotlib` within the jupyter notebook environment. We will work though how to download and manipulate the data that we need to use, but we will also need to check that we have downloaded the correct data, that we are reading it correctly and that is is not corrupted. For that there is no better check than plotting a map and taking a good look at the results.\n",
    "\n",
    "## Step 1\n",
    "\n",
    "Download topography / bathymetry data and plot a map. \n",
    "\n",
    "Open the [next notebook:EMSC2022W11.ii.ipynb](EMSC2022W11.ii.ipynb)\n",
    "\n",
    "## Step 2 \n",
    "\n",
    "We need the age data for the oceans and we need to check how it is formatted.\n",
    "\n",
    "Open the [next notebook:EMSC2022W11.iii.ipynb](EMSC2022W11.iii.ipynb)\n",
    "\n",
    "## Step 3\n",
    "\n",
    "Next we need to try to get the depth and the age into the same grid resolution. \n",
    "We also need to think about whether this grid is suitable for the analysis we are going to do.\n",
    "\n",
    "Open the [next notebook:EMSC2022W11.iv.ipynb](EMSC2022W11.iv.ipynb)\n",
    "\n",
    "## Step 4\n",
    "\n",
    "Finally we put all this together to obtain a single scatter plot ! \n",
    "\n",
    "Open the [next notebook:EMSC2022W11.v.ipynb](EMSC2022W11.v.ipynb)\n",
    "\n",
    "### References\n",
    "\n",
    "Turcotte, Donald Lawson, and Gerald Schubert. Geodynamics. 2nd ed. Cambridge ; New York: Cambridge University Press, 2002.\n",
    "\n",
    "\n"
   ]
  },
  {
   "attachments": {},
   "cell_type": "markdown",
   "metadata": {},
   "source": [
    "## Spoiler \n",
    "\n",
    "This is what we are aiming for:\n",
    "<div>\n",
    "<img src=\"Images/MyTargetPlot.png\", width=40%>\n",
    "</div>"
   ]
  },
  {
   "cell_type": "code",
   "execution_count": null,
   "metadata": {},
   "outputs": [],
   "source": []
  }
 ],
 "metadata": {
  "jupytext": {
   "cell_metadata_filter": "-all",
   "formats": "Notebooks/LAB11//ipynb,Markdown/LAB11//md"
  },
  "kernelspec": {
   "display_name": "Python 3",
   "language": "python",
   "name": "python3"
  },
  "language_info": {
   "codemirror_mode": {
    "name": "ipython",
    "version": 3
   },
   "file_extension": ".py",
   "mimetype": "text/x-python",
   "name": "python",
   "nbconvert_exporter": "python",
   "pygments_lexer": "ipython3",
   "version": "3.7.6"
  }
 },
 "nbformat": 4,
 "nbformat_minor": 4
}
