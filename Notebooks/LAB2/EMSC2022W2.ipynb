{
 "cells": [
  {
   "cell_type": "markdown",
   "metadata": {},
   "source": [
    "# EMSC2022 Practical - Week 2 \n",
    "# Heat flow and ocean depth\n",
    "\n",
    "## Introduction\n",
    "In Tuesday’s lecture, we saw that there is a relationship between seafloor age and depth. This makes sense from an isostatic viewpoint; newly formed lithosphere at ocean ridges is hot and thin and stands high. Whereas, older lithosphere has cooled, become denser and sunk to a lower level.\n",
    "\n",
    "In this practical we will examine the relationship between seafloor age and depth. This will involve:\n",
    "\n",
    "*\tUsing marine magnetic anomalies to find the age of specific regions of the seafloor.\n",
    "*\tFinding the depth of the same regions of seafloor.\n",
    "*\tComparing your seafloor depths to a theoretical model.\n",
    "\n",
    "## TASK 1\n",
    "Use the provided magnetic anomaly map (MAP A) to estimate ages of different parts of the South Atlantic seafloor.  Choose a location on each magnetic anomaly and record it’s latitude and longitude in the provided table (you can simply estimate the postion using a ruler and calculator). Do this for the magnetic anomalies on both the eastern and western sides of the mid-ocean ridge.\n",
    "\n",
    "You can find the ages of different magnetic anomalies in the provided table from *Cande & Kent* (1995). Add these ages to the table.\n",
    "\n",
    "## TASK 2\n",
    "\n",
    "Visit: https://maps.ngdc.noaa.gov/viewers/bathymetry/\n",
    "\n",
    "An online map will appear. \n",
    "\n",
    "First, in the “*Layers*” option on the left of the screen, switch off the option “*Multibeam Bathymetric Surveys*”. Use the online viewer to find the depths of your chosen locations. If you place your mouse at a given point on the map, it will tell you the latitude and longitude of that location in the bottom left corner (you can zoom in using the vertical slider if required). After a few seconds the water depth of the location will appear next to *Elevation:*. Add the water depths for your selected positions to the table.\n",
    " \n",
    "\n",
    "## TASK 3\n",
    "\n",
    "We’ll now compare your data to a theoretical cooling model of the ocean lithosphere (you can find more details in the paper by Johnson & Carlson (1992), which is on the course Wattle page). The model states that the depth ($d$ in metres) of seafloor is a function of age ($t$ in millions of years) according to:\n",
    "\n",
    "$ d = 2600 + 365 \\sqrt t    $ when $t<$20 Ma\n",
    "\n",
    "$ d = 5651 - 2473 \\exp(-0.0278 t)    $ when $t\\geq$ 20 Ma\n",
    "\n",
    "It's important to note that the model applies two different equations depending on if the seafloor has an age less than or greater than 20 million years.\n",
    "\n",
    "We can undertake this calculation in Python. This will involve entering the data you collated in your tables. We'll first make a variable that contains the ages of the different seafloor locations. To be consistent with the equation above, we'll call the variable ``t`` and enter the values in millions of years. First import ``numpy``."
   ]
  },
  {
   "cell_type": "code",
   "execution_count": null,
   "metadata": {},
   "outputs": [],
   "source": []
  }
 ],
 "metadata": {
  "kernelspec": {
   "display_name": "Python 3",
   "language": "python",
   "name": "python3"
  },
  "language_info": {
   "codemirror_mode": {
    "name": "ipython",
    "version": 3
   },
   "file_extension": ".py",
   "mimetype": "text/x-python",
   "name": "python",
   "nbconvert_exporter": "python",
   "pygments_lexer": "ipython3",
   "version": "3.6.6"
  }
 },
 "nbformat": 4,
 "nbformat_minor": 2
}
