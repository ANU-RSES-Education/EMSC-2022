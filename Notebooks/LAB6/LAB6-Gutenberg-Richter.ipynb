{
 "cells": [
  {
   "cell_type": "markdown",
   "metadata": {},
   "source": [
    "## Lab 6: Introduction to scatter plots and the Gutenburg-Richter Relation\n",
    "\n",
    "This lesson will introduce scatter plots and how to make them in several different ways. We will start by importing the ANSS earthquake catalog which you can optionally download [here](http://www.ncedc.org/anss/catalog-search.html). OR, for your convenience this file is also provided in the \"data\" folder within the LAB6 folder.\n",
    "\n",
    "The catalog provided is for magnitude >= 5 events occurring between 1997 and 2009 worldwide. For easy import, it is best to download a CSV version.\n",
    "\n",
    "For additional details see the publication:\n",
    "John M. Aiken, Chastity Aiken, Fabrice Cotton; A Python Library for Teaching Computation to Seismology Students. Seismological Research Letters ; 89 (3): 1165–1171. doi: https://doi.org/10.1785/0220170246"
   ]
  },
  {
   "cell_type": "markdown",
   "metadata": {},
   "source": [
    "Here we will import the familiar toolkit `pandas` that we used in Lab 4 to import data from Oregon State University volcano database.  And the plotting library we have used before"
   ]
  },
  {
   "cell_type": "code",
   "execution_count": null,
   "metadata": {},
   "outputs": [],
   "source": [
    "%matplotlib inline\n",
    "import pandas as pd\n",
    "import matplotlib.pyplot as plt"
   ]
  },
  {
   "cell_type": "markdown",
   "metadata": {},
   "source": [
    "The next cell will read the csv data from the data folder mentioned. Then the following cell will display the first 5 lines (head) of the table from the .csv file."
   ]
  },
  {
   "cell_type": "code",
   "execution_count": null,
   "metadata": {},
   "outputs": [],
   "source": [
    "# read the data, set space delimiter, and get rid of the dash line in 1st line after header\n",
    "df = pd.read_csv('data/anss.csv', delim_whitespace=True, skiprows=[1])"
   ]
  },
  {
   "cell_type": "code",
   "execution_count": null,
   "metadata": {},
   "outputs": [],
   "source": [
    "df.head()"
   ]
  },
  {
   "cell_type": "markdown",
   "metadata": {},
   "source": [
    "What are these columns?\n",
    "\n",
    "Some are self explanatory but some are not:\n",
    "\n",
    "* MagT - magnitude type, the way the magnitude was calculated\n",
    "* Nst - the number of stations used to locate the earthquake\n",
    "* Gap - azimuthal gap of stations used to locate the earthquake\n",
    "* RMS - root mean square error for the location\n",
    "* SRC - network organization that reported the event\n",
    "* EventID - ID number assigned to the event\n"
   ]
  },
  {
   "cell_type": "code",
   "execution_count": null,
   "metadata": {
    "scrolled": true
   },
   "outputs": [],
   "source": [
    "df.describe()"
   ]
  },
  {
   "cell_type": "markdown",
   "metadata": {},
   "source": [
    "Scatter plots are used to look at how two variables compare. For example, does the Magnitude of the earthquake correlate in some way to the number of stations used to locate it?\n"
   ]
  },
  {
   "cell_type": "markdown",
   "metadata": {},
   "source": [
    "### Exercise 1:  Make a plot of Magnitude vs. Number of stations\n",
    "\n",
    "We got it started for you here, but you need to fill in the brackets to actually make a scatter plot for the magnitude (x-axis) and number of stations (y-axis)"
   ]
  },
  {
   "cell_type": "code",
   "execution_count": null,
   "metadata": {
    "scrolled": true
   },
   "outputs": [],
   "source": [
    "df.plot()"
   ]
  },
  {
   "cell_type": "markdown",
   "metadata": {},
   "source": [
    "We can clean this plot up a lot though. Lets start by looking at the machinery that creates it."
   ]
  },
  {
   "cell_type": "code",
   "execution_count": null,
   "metadata": {},
   "outputs": [],
   "source": [
    "fig, ax = plt.subplots(1, figsize=(8,5))\n",
    "\n",
    "df.plot(ax=ax, kind='scatter', x='Mag', y='Nst', alpha=0.15, edgecolor='None'\n",
    "       ,color='violet')\n",
    "\n",
    "ax.set_ylim(0, 1000)\n",
    "ax.set_xlim(4.5, 10)\n",
    "ax.grid(True)\n",
    "ax.set_title('Does the number of stations change for the magnitude?')\n",
    "\n",
    "ax.set_ylabel('Number of Stations')\n",
    "ax.set_xlabel('Magnitude')"
   ]
  },
  {
   "cell_type": "markdown",
   "metadata": {},
   "source": [
    "### Exercise 2: Make Gutenberg-Richter plots"
   ]
  },
  {
   "cell_type": "markdown",
   "metadata": {},
   "source": [
    "In seismology, the Gutenberg–Richter law expresses the relationship between the magnitude and total number of earthquakes (that is the distribution) in any given region and time period of at least that magnitude.\n",
    "\n",
    "$log_{10}N = a -bM$\n",
    "\n",
    "or\n",
    "\n",
    "$N = 10^{a-bM}$\n",
    "\n",
    "Where:\n",
    "\n",
    "* $N$  is the number of events having a magnitude, $\\geq M$ \n",
    "* $a$  and $b$  are constants.\n",
    "\n",
    "To create the Gutenburg-Richter distribution of the earthquake magnitudes from the ANSS catalog we imported above, we are going to use numpy."
   ]
  },
  {
   "cell_type": "code",
   "execution_count": null,
   "metadata": {},
   "outputs": [],
   "source": [
    "# Try importing here\n"
   ]
  },
  {
   "cell_type": "code",
   "execution_count": null,
   "metadata": {},
   "outputs": [],
   "source": [
    "df.Mag.values.round(1)"
   ]
  },
  {
   "cell_type": "code",
   "execution_count": null,
   "metadata": {},
   "outputs": [],
   "source": [
    "hist, edges = np.histogram(a=df.Mag.values.round(1), bins=101, range=(0,10))\n",
    "#cummulative histogram\n",
    "chist = np.cumsum(hist[::-1])[::-1]"
   ]
  },
  {
   "cell_type": "markdown",
   "metadata": {},
   "source": [
    "Look at what the variable \"edges\" is"
   ]
  },
  {
   "cell_type": "code",
   "execution_count": null,
   "metadata": {},
   "outputs": [],
   "source": [
    "edges"
   ]
  },
  {
   "cell_type": "markdown",
   "metadata": {},
   "source": [
    "Look at what 'hist' is"
   ]
  },
  {
   "cell_type": "code",
   "execution_count": null,
   "metadata": {},
   "outputs": [],
   "source": [
    "hist"
   ]
  },
  {
   "cell_type": "markdown",
   "metadata": {},
   "source": [
    "#### We got you started but you need to plot the data ..."
   ]
  },
  {
   "cell_type": "code",
   "execution_count": null,
   "metadata": {},
   "outputs": [],
   "source": [
    "fig, ax = plt.subplots()\n",
    "\n",
    "#try plotting the data ('edges' variable here)\n",
    "ax.plot(edges[:-1], chist, marker='^', color='blue')\n",
    "\n",
    "ax.set_ylabel('N')\n",
    "ax.set_xlabel('Magnitude')\n",
    "ax.set_title('Gutenburg-Richter Distribution')"
   ]
  },
  {
   "cell_type": "markdown",
   "metadata": {},
   "source": [
    "We quite frequently want to plot the fit of the <i>a</i> and <i>b</i> values of the gutenburg richter distribution. To do this, we are going to use the equation below which calculates the maximum likelihood of the distribution and returns the parameters:\n",
    "\n",
    "* <i>a</i> - the \"productivity\" of the distribution, but really just the y-intercept\n",
    "* <i>b</i> - the \"mean magnitude\" but really it's just the slope\n",
    "* <i>bstdev</i> - the standard deviation of <i>b</i>\n",
    "* <i>length</i> - the number of earthquakes used to calculate the values"
   ]
  },
  {
   "cell_type": "code",
   "execution_count": null,
   "metadata": {},
   "outputs": [],
   "source": [
    "def fmd_values(magnitudes, bin_width=0.1):\n",
    "    \"\"\"\n",
    "    params magnitudes : numpy.array\n",
    "    params bin_width : float\n",
    "    \n",
    "    returns a,b,bstd, n-values if above the earthquake count threshold\n",
    "    else returns np.nans\n",
    "    \"\"\"\n",
    "    length = magnitudes.shape[0]\n",
    "    minimum = magnitudes.min()\n",
    "    average = magnitudes.mean()\n",
    "    b_value = (1 / (average - (minimum - (bin_width/2)))) * np.log10(np.exp(1))\n",
    "    square_every_value = np.vectorize(lambda x: x**2)\n",
    "    b_stddev = square_every_value((magnitudes - average).sum()) / (length * (length - 1))\n",
    "    b_stddev = 2.3 * np.sqrt(b_stddev) * b_value**2\n",
    "    a_value = np.log10(length) + b_value * minimum\n",
    "    \n",
    "    return a_value, b_value, b_stddev, length"
   ]
  },
  {
   "cell_type": "code",
   "execution_count": null,
   "metadata": {},
   "outputs": [],
   "source": [
    "fmd_values(df.Mag.values)"
   ]
  },
  {
   "cell_type": "code",
   "execution_count": null,
   "metadata": {},
   "outputs": [],
   "source": [
    "a, b, bstd, n = fmd_values(df.Mag.values)"
   ]
  },
  {
   "cell_type": "markdown",
   "metadata": {},
   "source": [
    "Now that we have our values that represent the y-intercept (<i>a</i> value) and the slope (<i>b</i> value). \n",
    "\n",
    "### Exercise 3:  You need to  plot a fitted line to the data.  Remember the equation for GR ...\n",
    "\n",
    "We've started it for you, but you need to work through the calcuations (in particular defining 'y' and make the plot."
   ]
  },
  {
   "cell_type": "code",
   "execution_count": null,
   "metadata": {},
   "outputs": [],
   "source": [
    "x = np.linspace(0,10, 1000)\n",
    "y ="
   ]
  },
  {
   "cell_type": "code",
   "execution_count": null,
   "metadata": {},
   "outputs": [],
   "source": [
    "fig, ax = plt.subplots()\n",
    "\n",
    "ax.plot(x,y)\n",
    "\n",
    "ax.set_yscale('log')\n",
    "ax.set_ylabel('N')\n",
    "ax.set_xlabel('Magnitude')\n",
    "ax.set_xlim(4.5, 10)\n",
    "ax.set_ylim(1e0, 1e5)\n",
    "ax.set_title('Gutenburg-Richter Distribution')"
   ]
  },
  {
   "cell_type": "markdown",
   "metadata": {
    "collapsed": true
   },
   "source": [
    "This fit looks pretty good! I hope!"
   ]
  },
  {
   "cell_type": "code",
   "execution_count": null,
   "metadata": {},
   "outputs": [],
   "source": []
  }
 ],
 "metadata": {
  "kernelspec": {
   "display_name": "Python 3",
   "language": "python",
   "name": "python3"
  },
  "language_info": {
   "codemirror_mode": {
    "name": "ipython",
    "version": 3
   },
   "file_extension": ".py",
   "mimetype": "text/x-python",
   "name": "python",
   "nbconvert_exporter": "python",
   "pygments_lexer": "ipython3",
   "version": "3.7.6"
  }
 },
 "nbformat": 4,
 "nbformat_minor": 1
}
