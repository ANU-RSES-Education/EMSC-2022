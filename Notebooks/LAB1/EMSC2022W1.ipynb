{
 "cells": [
  {
   "cell_type": "markdown",
   "metadata": {},
   "source": [
    "# Jupyter Notebook: EMSC2022, Practical Week 1\n",
    "Jupyter notebooks are documents capable of containing both computer code (e.g. python commands) and text elements (e.g., paragraphs of type, equations, figures, links, etc…). Notebook documents are both human-readable documents that can contain the description of an experimental analysis and the results (figures, tables, etc..) as well as executable computer code which can be run to perform data analysis.\n",
    "\n",
    "## The Python language\n",
    "We'll be working with Python, which is a general purpose programming language. Python is free and over the last decade has become the *de facto* programming language for scientific data analysis and numerical modelling. Thousands of free packages have been developed by scientists around the world for performing different analyses in Python. These are easy to download and work with to help you solve specific problems.\n",
    "\n",
    "We'll be starting with very simple Python commands, you can also find a free online Python tutorial here:\n",
    "https://www.gitbook.com/book/swaroopch/byte-of-python\n",
    "\n",
    "## Structure of Jupyter Notebooks\n",
    "Notebooks are split into \"cells\", which can contain text, python code, etc.\n",
    "\n",
    "### Adding a *text* cell\n",
    "If you want to display text, then a cell must be set as \"Markdown\" (this can be set in the toolbar). Markdown is a simple language often used to format text, you can specify font sizes, colours, equations, hyperlinks, etc., all using Markdown. You'll be able to see examples of Markdown in this notebook (i.e. the cells containing text). Once you have completed your Markdown in a cell, press Shift and Enter together and your formatted text will appear. If you want to edit the cell, just double-click it and the Markdown will appear.\n",
    "\n",
    "### Adding a *code* cell\n",
    "Python programming is based on you providing a sequence of commands. We can type these commands into a cell and set the cell as \"code\" (this is the default when you make a new cell, but can also be selected in the toolbar. Python then knows that the text is the cell is a sequence of commands that should be executed. If you want to execute the code in the cell, just hit Shift and Enter together.\n",
    "\n",
    "# Calculating the relative velocity of two plates based on an Euler pole\n",
    "In this example, we'll follow the calculation we performed in Section 2b of the practical. By reviewing the code you should be able to see how we can step through the calculation in terms of Python commands.\n",
    "\n",
    "Remember, the equation for the relative velocity between two plates based on their shared Euler pole is given by:\n",
    "\n",
    "$v = \\omega R \\sin \\theta$,\n",
    "\n",
    "where $v$ is the velocity, $\\omega$ is the rotational velocity, $R$ is Earth's radius and $\\theta$ is the angle between the pole and the point of interest (you can look at the Markdown in this cell to see how I wrote out the equation and symbols).\n",
    "\n",
    "The \"#\" symbol is a comment, which allows us to put short pieces of information directly after a command. Once Python see the # symbol it will ignore the rest of the text on that line and go onto the next line in the cell. This allows us to provide a brief piece of information without including a whole text cell.\n",
    "\n",
    "### Let's get started\n",
    "First, we'll import *NumPy*, which is a Python library that contains a large collection of mathematical functions that we'll need later. In the command below we tell Python that we want to \"import\" the *NumPy* library and that we'll refer to it in our code using the name *np*."
   ]
  },
  {
   "cell_type": "code",
   "execution_count": 1,
   "metadata": {},
   "outputs": [],
   "source": [
    "import numpy as np #import numpy and refer to it as np"
   ]
  },
  {
   "cell_type": "markdown",
   "metadata": {},
   "source": [
    "We can now start defining the information we'll use in the calculation. Each item needs a name, for example, we'll define a variable corresponding to the radius of the Earth and call it *R*."
   ]
  },
  {
   "cell_type": "code",
   "execution_count": 2,
   "metadata": {},
   "outputs": [],
   "source": [
    "R = 6378E+3 #radius of the Earth in metres"
   ]
  },
  {
   "cell_type": "markdown",
   "metadata": {},
   "source": [
    "When we gave the above command, Python formed a variable called *R* in its memory and assigned it a value of 6378000.\n",
    "\n",
    "If you want to look at the value (or values) stored in a variable you can use the *print* command. An example of this is given in the next cell."
   ]
  },
  {
   "cell_type": "code",
   "execution_count": 3,
   "metadata": {},
   "outputs": [
    {
     "name": "stdout",
     "output_type": "stream",
     "text": [
      "6378000.0\n"
     ]
    }
   ],
   "source": [
    "print(R)"
   ]
  },
  {
   "cell_type": "markdown",
   "metadata": {},
   "source": [
    "We'll now define the position (latitude and longitude) of the Euler pole and it's rotational velocity. We can define the South American - African pole in one cell simply by putting the commands in sequence."
   ]
  },
  {
   "cell_type": "code",
   "execution_count": 4,
   "metadata": {},
   "outputs": [],
   "source": [
    "lambda_p = 62.5 #latitude of pole in degrees\n",
    "phi_p = -39.4 #longitude of pole in degrees\n",
    "omega = 3.1E-7 #angular velocity of pole in degrees / year"
   ]
  },
  {
   "cell_type": "markdown",
   "metadata": {},
   "source": [
    "Using a similar approach we can define the location of our point of interest; **X**"
   ]
  },
  {
   "cell_type": "code",
   "execution_count": 5,
   "metadata": {},
   "outputs": [],
   "source": [
    "lambda_x = -10 #latitude of point X in degrees\n",
    "phi_x = -12 #longitude of point X in degrees"
   ]
  },
  {
   "cell_type": "markdown",
   "metadata": {},
   "source": [
    "Nearly all programming languages assume that angles are defined in radians rather than degrees. Here we'll use the *NumPy* function *deg2rad* to convert the values we provided in degrees into radians (the name of the function is very logical, that's not always the case). \n",
    "\n",
    "Look at the structure of the commands below. We have a number stored in a variable, for example *lambda_p*, and we want to perform a certain operation on that number. The operation we want to perform is part of the *NumPy* library and specifically the function *deg2rad*. So we need to define 4 things:\n",
    "\n",
    "1. The libary to use (in this case *NumPy*, which when we installed it above we said we would call it *np*).\n",
    "2. The function that represents the operation we want to perform (*deg2rad* to convert degrees into radians).\n",
    "3. The variable we want to perform the operation on, the name of which is placed in brackets after the function name.\n",
    "4. The output variable name, in other words, what are we going to call the result of the calculation.\n",
    "\n",
    "In the example below, I've simply given the input variable (in brackets) and the output variable (on the left) the same name. This isn't a problem, it just means the old value (i.e. the angle in degrees) will be removed from the variable and replaced with the result of the calculation (i.e. the angle in radians)."
   ]
  },
  {
   "cell_type": "code",
   "execution_count": 6,
   "metadata": {},
   "outputs": [],
   "source": [
    "lambda_p = np.deg2rad(lambda_p) #latitude of pole in radians\n",
    "phi_p = np.deg2rad(phi_p) #longitude of pole in radians\n",
    "omega = np.deg2rad(omega) #angular velocity of pole in radians / year\n",
    "lambda_x = np.deg2rad(lambda_x) #latitude of point X in radians\n",
    "phi_x = np.deg2rad(phi_x) #longitude of point X in radians"
   ]
  },
  {
   "cell_type": "markdown",
   "metadata": {},
   "source": [
    "The angle between the locations ***P*** and ***X*** is given by (you can look at the Markdown in the cell to see how I wrote the equation out):\n",
    "\n",
    "$\\theta = \\cos^{-1}[\\sin \\lambda_x \\sin \\lambda_p + \\cos \\lambda_x \\cos \\lambda_p \\cos(\\phi_p - \\phi_x)]$\n",
    "\n",
    "*NumPy* contains a collection of trigonometry functions, specifically:\n",
    "1. *np.arccos* is the inverse of the cosine (the result is in radians)\n",
    "2. *np.sin* is the sine of an angle (the angle should be given in radians)\n",
    "3. *np.cos* is the cosine of an angle (the angle should be given in radians)\n",
    "\n",
    "Following the equation, we can calculate $\\theta$ in radians using the command:"
   ]
  },
  {
   "cell_type": "code",
   "execution_count": 7,
   "metadata": {},
   "outputs": [],
   "source": [
    "# calculate angle between X and P in radians\n",
    "theta = np.arccos(np.sin(lambda_x)*np.sin(lambda_p)+\n",
    "                  np.cos(lambda_x)*np.cos(lambda_p)*np.cos(phi_p-phi_x))"
   ]
  },
  {
   "cell_type": "markdown",
   "metadata": {},
   "source": [
    "We're almost there. We can now plug the various values into:\n",
    "\n",
    "$v = \\omega R \\sin(\\theta)$,\n",
    "\n",
    "to calculate the relative velocity between the South American and African plates at point ***X***."
   ]
  },
  {
   "cell_type": "code",
   "execution_count": 8,
   "metadata": {},
   "outputs": [
    {
     "name": "stdout",
     "output_type": "stream",
     "text": [
      "0.03341526396660804\n"
     ]
    }
   ],
   "source": [
    "# calculate relative velocity in m/yr\n",
    "v = omega * R * np.sin(theta)\n",
    "print(v)"
   ]
  },
  {
   "cell_type": "markdown",
   "metadata": {},
   "source": [
    " We have a number, but we need to think how to present it, for example, units, significant figures, etc."
   ]
  }
 ],
 "metadata": {
  "kernelspec": {
   "display_name": "Python 3",
   "language": "python",
   "name": "python3"
  },
  "language_info": {
   "codemirror_mode": {
    "name": "ipython",
    "version": 3
   },
   "file_extension": ".py",
   "mimetype": "text/x-python",
   "name": "python",
   "nbconvert_exporter": "python",
   "pygments_lexer": "ipython3",
   "version": "3.6.6"
  }
 },
 "nbformat": 4,
 "nbformat_minor": 2
}
