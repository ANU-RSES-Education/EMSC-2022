{
 "cells": [
  {
   "cell_type": "markdown",
   "metadata": {},
   "source": [
    "# EMSC Week 11 - A detailed look at the depth-age relationship for the seafloor.\n",
    "\n",
    "The convective boundary-layer theory predicts that there should be a strong relationship between the age of the seafloor and the thickness of the lithosphere. The thickness should be proportional to the square root of the age of the lithosphere (or the distance from the mid-ocean ridge if we assume near-constant plate velocity over time and plate rigidity)\n",
    "<div>\n",
    "<img src=\"Images/blt.png\" width=\"50%\"/>\n",
    "</div>\n",
    "\n",
    "We saw in the lectures that this relationship also implies that the depth of the oceans should follow the same pattern. The example that we have from the lecture notes is taken from the original edition of the book by Turcotte and Schubert and it is based on quite limited information. We can get more extensive datasets on line and see how that works for us.\n",
    "\n",
    "<div>\n",
    "<img src=\"Images/LithosphereDepthAge.png\" width=\"40%\"/>\n",
    "</div>\n",
    "\n",
    "\n",
    "### Required background\n",
    "\n",
    "In this week's lab we will be revisiting an earlier lab in which we made maps with the `cartopy` package and `matplotlib` within the jupyter notebook environment. We will work though how to download and manipulate the data that we need to use, but we will also need to check that we have downloaded the correct data, that we are reading it correctly and that is is not corrupted. For that there is no better check than plotting a map and taking a good look at the results.\n",
    "\n",
    "## Step 1\n",
    "\n",
    "Download topography / bathymetry data and plot a map. \n",
    "\n",
    "(Open the [notebook Notebooks/LAB11/EMSC2022W11.i.ipynb\n",
    "\n",
    "\n",
    "### References\n",
    "\n",
    "Amante, C. “ETOPO1 1 Arc-Minute Global Relief Model: Procedures, Data Sources and Analysis.” National Geophysical Data Center, NOAA, 2009. https://doi.org/10.7289/V5C8276M.\n",
    "\n",
    "Turcotte, Donald Lawson, and Gerald Schubert. Geodynamics. 2nd ed. Cambridge ; New York: Cambridge University Press, 2002.\n",
    "\n",
    "\n"
   ]
  },
  {
   "cell_type": "code",
   "execution_count": null,
   "metadata": {},
   "outputs": [],
   "source": [
    "\n",
    "from osgeo import gdal\n",
    "\n",
    "import numpy as np\n",
    "import matplotlib.pyplot as plt\n",
    "from matplotlib import cm\n",
    "%matplotlib inline\n",
    "\n",
    "import quagmire\n",
    "\n",
    "\n",
    "## Read ETOPO1 data from online service\n",
    "\n",
    "import xarray\n",
    "\n",
    "(left, bottom, right, top) = new_zealand_bounds\n",
    "map_extent = ( left, right, bottom, top)\n",
    "\n",
    "etopo_dataset = \"http://thredds.socib.es/thredds/dodsC/ancillary_data/bathymetry/ETOPO1_Bed_g_gmt4.nc\"\n",
    "etopo_data = xarray.open_dataset(etopo_dataset)\n",
    "regional_data = etopo_data.sel(x=slice(left,right), y=slice(bottom, top))\n",
    "\n",
    "\n",
    "lons = regional_data.coords.get('x')\n",
    "lats = regional_data.coords.get('y')\n",
    "vals = regional_data['z']\n",
    "\n",
    "x,y = np.meshgrid(lons.data, lats.data)\n",
    "height = vals.data"
   ]
  }
 ],
 "metadata": {
  "jupytext": {
   "cell_metadata_filter": "-all",
   "formats": "Notebooks/LAB11//ipynb,Markdown/LAB11//md"
  },
  "kernelspec": {
   "display_name": "Python 3",
   "language": "python",
   "name": "python3"
  },
  "language_info": {
   "codemirror_mode": {
    "name": "ipython",
    "version": 3
   },
   "file_extension": ".py",
   "mimetype": "text/x-python",
   "name": "python",
   "nbconvert_exporter": "python",
   "pygments_lexer": "ipython3",
   "version": "3.7.6"
  }
 },
 "nbformat": 4,
 "nbformat_minor": 4
}
