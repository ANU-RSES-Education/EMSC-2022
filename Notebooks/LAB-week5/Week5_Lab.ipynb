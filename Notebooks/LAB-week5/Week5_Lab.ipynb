{
 "cells": [
  {
   "cell_type": "markdown",
   "metadata": {},
   "source": [
    "# EMSC 2022-2021 Week 5 - Making Maps with Python \n",
    "\n",
    "### Required background\n",
    "\n",
    "In this week's lab we will be make maps with the `cartopy` package and `matplotlib` within the jupyter notebook environment. We will work though how to download and manipulate the data that we need to use, but we will also need to check that we have downloaded the correct data, that we are reading it correctly and that is is not corrupted. For that there is no better check than plotting a map and taking a good look at the results.\n",
    "\n",
    "Often in geosciences research, we wish to produce maps displaying spatial data. Python provides two sets of tools for handling mapping: `Basemap` and `Cartopy`. `Basemap` is currently probably more popular, but its developers have announced that it will shortly be phased out in favour of `Cartopy`.\n",
    "\n",
    "## Step 1\n",
    "\n",
    "This simple code will access geophysical data online, manipulate it, and then use the specified data to make a map of active volcanoes.\n",
    "\n",
    "View the [next notebook:LAB5_Volcano_Map.ipynb](LAB5_Volcano_Map.ipynb)\n",
    "\n",
    "\n",
    "## Step 2 \n",
    "\n",
    "This code uses Cartopy which provides access to various of the online mapping services that will serve image data on demand in the form of small image tiles at a specified resolution. The tools automatically query the service and assemble the tiles to make the map but there are some tricks that we need to know before we can use them.\n",
    "\n",
    "View the [next notebook:LAB5_On_Demand_MapServices.ipynb](LAB5_On_Demand_MapServices.ipynb)\n",
    "\n",
    "\n",
    "## Step 3\n",
    "\n",
    "This last code will take what you learned in the previous two steps to create a series of nice maps.  However, this one you'll have to write some of the code yourself!\n",
    "\n",
    "View the [next notebook:LAB5_Maps2020.ipynb](LAB5_Maps2020.ipynb)\n",
    "\n",
    "\n",
    "<!--\n",
    "### References\n",
    "-->\n",
    "\n",
    "\n"
   ]
  },
  {
   "cell_type": "markdown",
   "metadata": {},
   "source": []
  },
  {
   "cell_type": "code",
   "execution_count": null,
   "metadata": {},
   "outputs": [],
   "source": []
  }
 ],
 "metadata": {
  "kernelspec": {
   "display_name": "Python 3 (ipykernel)",
   "language": "python",
   "name": "python3"
  },
  "language_info": {
   "codemirror_mode": {
    "name": "ipython",
    "version": 3
   },
   "file_extension": ".py",
   "mimetype": "text/x-python",
   "name": "python",
   "nbconvert_exporter": "python",
   "pygments_lexer": "ipython3",
   "version": "3.9.10"
  }
 },
 "nbformat": 4,
 "nbformat_minor": 4
}
