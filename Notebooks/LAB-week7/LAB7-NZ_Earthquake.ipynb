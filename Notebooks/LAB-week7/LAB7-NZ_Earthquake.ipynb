{
 "cells": [
  {
   "cell_type": "markdown",
   "metadata": {},
   "source": [
    "## Lab 5 - New Zealand Earthquake Data\n",
    "\n",
    "This is a notebook to view seismic data from the Ru network of school seismometers in New Zealand. The details are described in our manuscript published in the European Journal of Physics, in 2017. These data are from an earthquake in Rotorua, NZ, in 2016:"
   ]
  },
  {
   "cell_type": "markdown",
   "metadata": {},
   "source": [
    "We can import some of the familar toolkits we have been using already such as `Obspy` to analyze seismic data.\n",
    "\n",
    "```python\n",
    "#you can use these libraries by refering to their appreviation plt., np., pd. or ccrs\n",
    "#basic plotting library\n",
    "import matplotlib.pyplot as plt\n",
    "\n",
    "#scientifc computing library\n",
    "import numpy as np\n",
    "\n",
    "#data analysis tool\n",
    "import pandas as pd\n",
    "\n",
    "#mapping toolkit\n",
    "import cartopy.crs as ccrs\n",
    "import cartopy\n",
    "\n",
    "#seismic toolkit\n",
    "import obspy\n",
    "```"
   ]
  },
  {
   "cell_type": "code",
   "execution_count": null,
   "metadata": {},
   "outputs": [],
   "source": [
    "#Try it here!\n"
   ]
  },
  {
   "cell_type": "code",
   "execution_count": null,
   "metadata": {},
   "outputs": [],
   "source": [
    "# Input the parameters of the earthquake from the GeoNet website (in Lab5 document)\n",
    "from obspy.core.utcdatetime import UTCDateTime\n",
    "t0 =  UTCDateTime(\"2015-09-23 18:47:51\")\n",
    "lat=\n",
    "lon=\n",
    "depth= # in km"
   ]
  },
  {
   "cell_type": "code",
   "execution_count": null,
   "metadata": {
    "scrolled": true
   },
   "outputs": [],
   "source": [
    "# read and plot the seismic data from the S data up to 250 seconds after the origin time:\n",
    "%matplotlib inline\n",
    "import matplotlib.pyplot as plt\n",
    "plt.rcParams.update({'font.size': 18})\n",
    "from obspy import read\n",
    "#this URL is the location of all the data you need - Python will grab it for you\n",
    "st = read('https://ndownloader.figshare.com/files/6924224')\n",
    "st.trim(t0,t0+250,pad=True,fill_value=0)\n",
    "fig = plt.figure(figsize=(25, 10))\n",
    "st.plot(fig=fig,norm_method='trace')"
   ]
  },
  {
   "cell_type": "markdown",
   "metadata": {},
   "source": [
    "Note the difference in amplitude and arrival times in these seismograms. Generally, later arrivals and smaller amplitudes mean a greater distance between earthquake and seismometer! But let's be a bit more precise. The cell below computes the travel times for primary and secondary waves as a function of distance to the earthquake. The predictions are based on an Earth that is perfectly spherically symmetric. In this case, we will use a 1D velocity model of the Earth called IASP91 which was developed by Professor Kennett here at RSES.\n",
    "\n",
    "For more information:  http://ds.iris.edu/spud/earthmodel/9991809"
   ]
  },
  {
   "cell_type": "code",
   "execution_count": null,
   "metadata": {},
   "outputs": [],
   "source": [
    "# Compute travel times based on the IASP91 model:\n",
    "from obspy.taup import TauPyModel\n",
    "import numpy as np\n",
    "model = TauPyModel(model=\"iasp91\")\n",
    "phases = ['p','P','s','S']\n",
    "min_degree=0\n",
    "max_degree=10\n",
    "npoints=500\n",
    "data={}\n",
    "degrees = np.linspace(min_degree, max_degree, npoints)\n",
    "for degree in degrees:\n",
    "    tt = model.get_travel_times(distance_in_degree=degree, source_depth_in_km=depth,phase_list=phases)\n",
    "    for item in tt:\n",
    "        phase = item.phase.name\n",
    "        if phase not in data:\n",
    "            data[phase] = [[], []]\n",
    "        data[phase][1].append(item.time) # in seconds\n",
    "        data[phase][0].append(degree)\n"
   ]
  },
  {
   "cell_type": "markdown",
   "metadata": {},
   "source": [
    "Now let us plot these arrival time predictions (as lines) over the seismic data:"
   ]
  },
  {
   "cell_type": "code",
   "execution_count": null,
   "metadata": {
    "scrolled": true
   },
   "outputs": [],
   "source": [
    "# add lat, lon, and epicentral/angular distance to each trace\n",
    "from obspy.core.util.attribdict import AttribDict\n",
    "from obspy.geodetics import locations2degrees\n",
    "\n",
    "fig = plt.figure(figsize=(25, 10))\n",
    "for tr in st:\n",
    "    tr.stats[\"coordinates\"] = {} \n",
    "    tr.stats.coordinates.latitude = tr.stats.sac.stla\n",
    "    tr.stats.coordinates.longitude = tr.stats.sac.stlo    \n",
    "    tr.stats.network='RU'\n",
    "    delta = locations2degrees(lat, lon, tr.stats.coordinates.latitude, tr.stats.coordinates.longitude)\n",
    "    tr.stats.picks= AttribDict({'epic_dist':delta})\n",
    "    plt.text(tr.stats.picks.epic_dist,20,tr.stats.station)\n",
    "\n",
    "# plot travel time predictions onto the data:\n",
    "st.plot(fig=fig,type='section',time_down=False,norm_method='trace',dist_degree='True',ev_coord =(lat,lon),show=False)\n",
    "\n",
    "# plot the synthetic arrival time curves:\n",
    "for key, value in data.items():\n",
    "    if key=='s':\n",
    "        lines, = plt.plot(np.array(value[0]), value[1],'--r',linewidth=2)\n",
    "    else:\n",
    "        linep, = plt.plot(np.array(value[0]), value[1],'b',linewidth=2)\n",
    "plt.grid()\n",
    "plt.xlabel('Epicentral distance (degrees)')\n",
    "plt.ylabel('Time (seconds)')\n",
    "plt.xlim([0,10])\n",
    "plt.legend([linep,lines],['P','S'])\n",
    "plt.show()"
   ]
  },
  {
   "cell_type": "markdown",
   "metadata": {},
   "source": [
    "The blue curve matches the first arrivals very well. In most seismograms, it is harder to see a clear secondary arrival, but we hope you agree that the red line and secondary arrivals in the data match reasonably well. Finally, we can view the epicenter on a map of New Zealand. "
   ]
  },
  {
   "cell_type": "code",
   "execution_count": null,
   "metadata": {},
   "outputs": [],
   "source": [
    "# Now you need to make a map of NZ:\n",
    "import cartopy.feature as cfeature\n",
    "\n",
    "from matplotlib import cm\n",
    "\n",
    "from obspy.geodetics import degrees2kilometers\n",
    "plt.figure(figsize=(10, 10))\n",
    "projection = ccrs.PlateCarree()\n",
    "ax = plt.axes(projection=projection)\n",
    "extent = (163, 180, -48, -34)\n",
    "ax.set_extent(extent)\n",
    "land_10m = cfeature.NaturalEarthFeature('physical', 'land', '10m',edgecolor='face',facecolor=cfeature.COLORS['land'])\n",
    "ax.add_feature(land_10m)\n",
    "ax.stock_img()\n",
    "\n",
    "# define transforms for markers and (offset)text on the map:\n",
    "geodetic_transform = projection._as_mpl_transform(ax)\n",
    "\n",
    "# plot the epicentre:\n",
    "plt.plot(lon, lat, marker='v', color='black', markersize=24, alpha=1,linestyle='None', transform=geodetic_transform)\n",
    "\n",
    "#define stations and colours for these:\n",
    "stats_focus = ['KKVC1','ASHB','hoki1','NPSH1','DEVP1']\n",
    "colors=iter(cm.gnuplot(np.linspace(0,1,len(stats_focus))))\n",
    "            \n",
    "#plt.savefig('mapwithcircles.pdf',bbox_inches='tight')\n",
    "plt.show()"
   ]
  }
 ],
 "metadata": {
  "anaconda-cloud": {},
  "kernelspec": {
   "display_name": "Python 3",
   "language": "python",
   "name": "python3"
  },
  "language_info": {
   "codemirror_mode": {
    "name": "ipython",
    "version": 3
   },
   "file_extension": ".py",
   "mimetype": "text/x-python",
   "name": "python",
   "nbconvert_exporter": "python",
   "pygments_lexer": "ipython3",
   "version": "3.7.6"
  }
 },
 "nbformat": 4,
 "nbformat_minor": 2
}
