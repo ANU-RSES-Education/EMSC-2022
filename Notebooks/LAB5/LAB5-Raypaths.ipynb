{
 "cells": [
  {
   "cell_type": "markdown",
   "metadata": {},
   "source": [
    "## LAB 5 - Seismic raypaths\n",
    "\n",
    "We can import some of the familar toolkits we have been using already to understand how seismic waves travel through the deep Earth:\n",
    "\n",
    "```python\n",
    "#you can use these libraries by refering to their appreviation plt., np., pd. or ccrs\n",
    "#basic plotting library\n",
    "import matplotlib.pyplot as plt\n",
    "\n",
    "#scientifc computing library\n",
    "import numpy as np\n",
    "\n",
    "#data analysis tool\n",
    "import pandas as pd\n",
    "\n",
    "# mapping toolkit\n",
    "import cartopy.crs as ccrs\n",
    "import cartopy\n",
    "\n",
    "```"
   ]
  },
  {
   "cell_type": "code",
   "execution_count": null,
   "metadata": {},
   "outputs": [],
   "source": [
    "#Import them all here\n"
   ]
  },
  {
   "cell_type": "markdown",
   "metadata": {},
   "source": [
    "Here we will make a new figure - a map of the globe with one seismic station and one earthquake (eq)"
   ]
  },
  {
   "cell_type": "code",
   "execution_count": null,
   "metadata": {},
   "outputs": [],
   "source": [
    "# create new figure, axes instances.\n",
    "fig=plt.figure()\n",
    "\n",
    "# setup mercator map projection.\n",
    "ax = fig.add_subplot(1,1,1, projection=ccrs.Orthographic(37,40))\n",
    "# plot bathymetry/topgraphy:\n",
    "ax.add_feature(cartopy.feature.LAND, edgecolor='black')\n",
    "ax.add_feature(cartopy.feature.OCEAN)\n",
    "ax.gridlines()\n",
    "\n",
    "# define the station and epicenter of the earthquake\n",
    "station = dict(lon=37, lat=0)\n",
    "eq = dict(lon=0, lat=37)\n",
    "lons = [station['lon'], eq['lon']]\n",
    "lats = [station['lat'], eq['lat']]\n",
    "\n",
    "# plot the epicentral (angular) distance and Great Circle Path \n",
    "ax.plot(lons, lats, 'bo', markersize=7, transform=ccrs.Geodetic())\n",
    "ax.plot(lons, lats, label='Great Circle', transform=ccrs.Geodetic())\n",
    "ax.coastlines()\n",
    "ax.legend()\n",
    "ax.set_global()\n",
    "\n",
    "# define the epicentral (angular) distance Delta and plot this as a circle on the map:\n",
    "Delta = np.deg2rad(50) * 6370\n",
    "ax.tissot(rad_km=Delta, lons=station['lon'], lats=station['lat'], n_samples=200, facecolor=\"None\", edgecolor=\"Blue\")\n",
    "ax.tissot(rad_km=Delta, lons=eq['lon'], lats=eq['lat'],           n_samples=200, facecolor=\"None\", edgecolor=\"Red\")\n",
    "\n",
    "plt.show()\n"
   ]
  },
  {
   "cell_type": "markdown",
   "metadata": {
    "inputHidden": false,
    "outputHidden": false
   },
   "source": [
    "Now you make a new map of the globe but following the instructions listed in Part III of the Lab5 document on Wattle"
   ]
  },
  {
   "cell_type": "code",
   "execution_count": null,
   "metadata": {},
   "outputs": [],
   "source": [
    "#Try it here!\n"
   ]
  },
  {
   "cell_type": "markdown",
   "metadata": {},
   "source": [
    "Now make a figure of ray paths through the Earth based upon the parameters listed below.  Change the depth of the earthquake and the phases plotted to see how they compare."
   ]
  },
  {
   "cell_type": "code",
   "execution_count": null,
   "metadata": {},
   "outputs": [],
   "source": [
    "#Try it here!\n",
    "from obspy.taup.tau import plot_ray_paths\n",
    "\n",
    "fig, ax = plt.subplots(subplot_kw=dict(polar=True))\n",
    "ax = plot_ray_paths(source_depth=600, ax=ax, fig=fig, phase_list=['PP', 'SP', 'SKP'],\n",
    "                    npoints=10)"
   ]
  },
  {
   "cell_type": "markdown",
   "metadata": {},
   "source": [
    "Now you can make another more detailed figure of all the different seismic phases listed in the PHASES below"
   ]
  },
  {
   "cell_type": "code",
   "execution_count": null,
   "metadata": {},
   "outputs": [],
   "source": [
    "from obspy.taup import TauPyModel\n",
    "\n",
    "PHASES = [\n",
    "    # Phase, distance\n",
    "    ('P', 26),\n",
    "    ('PP', 60),\n",
    "    ('PPP', 94),\n",
    "    ('PPS', 155),\n",
    "    ('p', 3),\n",
    "    ('pPcP', 100),\n",
    "    ('PKIKP', 170),\n",
    "    ('PKJKP', 194),\n",
    "    ('S', 65),\n",
    "    ('SP', 85),\n",
    "    ('SS', 134.5),\n",
    "    ('SSS', 204),\n",
    "    ('p', -10),\n",
    "    ('pP', -37.5),\n",
    "    ('s', -3),\n",
    "    ('sP', -49),\n",
    "    ('ScS', -44),\n",
    "    ('SKS', -82),\n",
    "    ('SKKS', -120),\n",
    "]\n",
    "\n",
    "model = TauPyModel(model='iasp91')\n",
    "\n",
    "fig, ax = plt.subplots(subplot_kw=dict(polar=True))\n",
    "\n",
    "# Plot all pre-determined phases\n",
    "for phase, distance in PHASES:\n",
    "    arrivals = model.get_ray_paths(700, distance, phase_list=[phase])\n",
    "    ax = arrivals.plot_rays(plot_type='spherical',\n",
    "                            legend=False, label_arrivals=True,\n",
    "                            plot_all=True,\n",
    "                            show=False, ax=ax)\n",
    "\n",
    "# Annotate regions\n",
    "ax.text(0, 0, 'Solid\\ninner\\ncore',\n",
    "        horizontalalignment='center', verticalalignment='center',\n",
    "        bbox=dict(facecolor='white', edgecolor='none', alpha=0.7))\n",
    "ocr = (model.model.radius_of_planet -\n",
    "       (model.model.s_mod.v_mod.iocb_depth +\n",
    "        model.model.s_mod.v_mod.cmb_depth) / 2)\n",
    "ax.text(np.deg2rad(180), ocr, 'Fluid outer core',\n",
    "        horizontalalignment='center',\n",
    "        bbox=dict(facecolor='white', edgecolor='none', alpha=0.7))\n",
    "mr = model.model.radius_of_planet - model.model.s_mod.v_mod.cmb_depth / 2\n",
    "ax.text(np.deg2rad(180), mr, 'Solid mantle',\n",
    "        horizontalalignment='center',\n",
    "        bbox=dict(facecolor='white', edgecolor='none', alpha=0.7))\n",
    "\n",
    "plt.show()"
   ]
  },
  {
   "cell_type": "code",
   "execution_count": null,
   "metadata": {},
   "outputs": [],
   "source": []
  }
 ],
 "metadata": {
  "kernel_info": {
   "name": "python3"
  },
  "kernelspec": {
   "display_name": "Python 3",
   "language": "python",
   "name": "python3"
  },
  "language_info": {
   "codemirror_mode": {
    "name": "ipython",
    "version": 3
   },
   "file_extension": ".py",
   "mimetype": "text/x-python",
   "name": "python",
   "nbconvert_exporter": "python",
   "pygments_lexer": "ipython3",
   "version": "3.7.6"
  },
  "nteract": {
   "version": "0.12.3"
  }
 },
 "nbformat": 4,
 "nbformat_minor": 2
}
