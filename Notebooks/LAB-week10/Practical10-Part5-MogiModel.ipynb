{
 "cells": [
  {
   "cell_type": "markdown",
   "id": "51603c3a",
   "metadata": {},
   "source": []
  },
  {
   "cell_type": "markdown",
   "id": "6849663b",
   "metadata": {},
   "source": [
    "# Calculate the vertical displacement using the Mogi model\n",
    "\n",
    "In this notebook, we will define the Mogi model to measure vertical displacements and apply it on data collected at Sakurajima volcano following the 1914 eruption. The following python modules are required in order to run the script:\n",
    "- matplotlib\n",
    "- numpy\n",
    "- math\n",
    "\n",
    "Source: https://gscommunitycodes.usf.edu/geoscicommunitycodes/public/numeracy/numeracy_mogi/mogi.html#python "
   ]
  },
  {
   "cell_type": "code",
   "execution_count": null,
   "id": "cd8ec933",
   "metadata": {},
   "outputs": [],
   "source": [
    "%matplotlib inline \n",
    "\n",
    "import numpy as np\n",
    "import matplotlib.pyplot as plt\n",
    "import math"
   ]
  },
  {
   "cell_type": "markdown",
   "id": "53a63f5d",
   "metadata": {},
   "source": [
    "## Define Mogi Model for vertical displacement\n",
    "\n",
    "Refresher for Python arithmetic operators: https://www.w3schools.com/python/gloss_python_arithmetic_operators.asp "
   ]
  },
  {
   "cell_type": "code",
   "execution_count": null,
   "id": "e1090e8b",
   "metadata": {},
   "outputs": [],
   "source": [
    "def mogi_vertical(x,a,d,g,delta_p,sigma):\n",
    "    # Calculate the vertical displacement (m)\n",
    "    # at the surface due to a subsurface\n",
    "    # pressure source using Mogi's solution\n",
    "    # x is horizontal distance (m), radial from source\n",
    "    # a is source radius (m) must be << d\n",
    "    # d is depth (m)\n",
    "    # g is shear modulus (MPa), typically 3e5 or less\n",
    "    # delta_p is the excess pressure of the source (MPa)\n",
    "    # sigma is Poisson's ratio (typically 0.25)\n",
    "    \n",
    "    # ---->  what is the equation? <----- #\n",
    "    w = ???\n",
    "    \n",
    "    return w  # displacement (m)"
   ]
  },
  {
   "cell_type": "code",
   "execution_count": null,
   "id": "41cb7b77",
   "metadata": {},
   "outputs": [],
   "source": [
    "check_solution = mogi_vertical(5000,500,2500,2.5e5,100,0.25)\n",
    "print(check_solution)\n",
    "\n",
    "# does your value equal to 0.0005366563145999495 ?"
   ]
  },
  {
   "cell_type": "markdown",
   "id": "820ff69e",
   "metadata": {},
   "source": [
    "## Survey data from Sakurajima Volcano \n",
    "The survey data were collected using precise line levelling on Sakurajima volcano by F. Omori and were reported in Mogi (1958). The displacements are found by calculating the differences in elevations at permanent survey markers on Sakurajima Volcano between surveys in 1893 and 1914, following the 1914 eruption. "
   ]
  },
  {
   "cell_type": "code",
   "execution_count": 12,
   "id": "a85c1bf8",
   "metadata": {},
   "outputs": [],
   "source": [
    "# The data is stored as a list in the following format:\n",
    "# 1st column: radial distance of permanent survey markers from the center of summit in km\n",
    "# 2nd column: differences in elevations in mm (i.e., vertical displacements) \n",
    "# between the two surveys at the each corresponding marker \n",
    "\n",
    "sakura = [[17.0, -291.0],\n",
    " [16.2, -291.0],\n",
    " [15.75, -302.0],\n",
    " [13.5, -407.0],\n",
    " [12.45, -446.0],\n",
    " [10.4, -527.0],\n",
    " [8.7, -658.0],\n",
    " [7.85, -770.0],\n",
    " [6.7, -894.0],\n",
    " [7.75, -776.0],\n",
    " [8.25, -703.0],\n",
    " [9.15, -608.0],\n",
    " [9.85, -526.0],\n",
    " [9.7, -536.0],\n",
    " [9.55, -560.0],\n",
    " [9.3, -577.0],\n",
    " [8.5, -684.0],\n",
    " [8.55, -690.0],\n",
    " [8.95, -681.0],\n",
    " [9.15, -685.0],\n",
    " [10.05, -616.0],\n",
    " [11.1, -481.0],\n",
    " [11.9, -427.0],\n",
    " [12.15, -369.0],\n",
    " [12.1, -348.0],\n",
    " [12.5, -301.0],\n",
    " [12.3, -306.0],\n",
    " [10.95, -433.0],\n",
    " [11.05, -426.0],\n",
    " [11.0, -453.0],\n",
    " [12.0, -356.0],\n",
    " [12.4, -344.0],\n",
    " [12.5, -363.0],\n",
    " [11.6, -401.0],\n",
    " [11.2, -468.0],\n",
    " [12.6, -379.0],\n",
    " [13.95, -314.0],\n",
    " [15.8, -242.0],\n",
    " [12.15, -369.0],\n",
    " [12.5, -338.0],\n",
    " [13.75, -260.0],\n",
    " [14.15, -244.0],\n",
    " [15.4, -206.0],\n",
    " [17.25, -155.0],\n",
    " [18.8, -143.0]]"
   ]
  },
  {
   "cell_type": "code",
   "execution_count": null,
   "id": "2b1d3b6e",
   "metadata": {},
   "outputs": [],
   "source": [
    "# Rearrange data to 2 separate arrays\n",
    "marker_radial_dist = np.array([item[0] for item in sakura])\n",
    "obs_disp = np.array([item[1] for item in sakura])\n",
    "\n",
    "# Plot observation \n",
    "plt.plot(marker_radial_dist, obs_disp, \"ko\")\n",
    "\n",
    "plt.xlabel(\"Radial distance from summit (km)\")\n",
    "plt.ylabel(\"Vertical displacement (mm)\")\n",
    "plt.title(\"Vertical displacements at Sakurajima after the 1914 eruption\")\n",
    "plt.show()"
   ]
  },
  {
   "cell_type": "markdown",
   "id": "92eb2d76",
   "metadata": {},
   "source": [
    "## Forward modelling\n",
    "\n",
    "Take a guess on the source depth and excess pressure and see how the Mogi model fits on Sakurajima volcano."
   ]
  },
  {
   "cell_type": "code",
   "execution_count": null,
   "id": "4082c636",
   "metadata": {},
   "outputs": [],
   "source": [
    "## Input for Mogi Model\n",
    "\n",
    "# variable\n",
    "d = ??? #source depth (m)   <-----\n",
    "delta_p = ??? #excess pressure (MPa)  <------\n",
    "\n",
    "\n",
    "# fixed \n",
    "a = 2500.0 #source radius (m)\n",
    "sigma = 0.25 #Poisson ratio\n",
    "g = 30000.0 #shear modulus (MPa)"
   ]
  },
  {
   "cell_type": "code",
   "execution_count": null,
   "id": "e1e1b409",
   "metadata": {},
   "outputs": [],
   "source": [
    "# ===================================== #\n",
    "\n",
    "# calculate vertical displacement for this range of radial distances (m)\n",
    "# !! note the units (e.g., m, mm, km, ...)\n",
    "\n",
    "x1 = np.arange(0,20000,100) # in meters\n",
    "\n",
    "# Calculate vertical displacement using Mogi model\n",
    "# !! multiply by 1000 as Mogi model uses m and observed measurements are in mm. \n",
    "\n",
    "syn_disp_in_meter = mogi_vertical(x1,a,d,g,delta_p,sigma)\n",
    "syn_disp = syn_disp_in_meter * 1000 # convert meter to millimeter\n",
    "\n",
    "# Compare the Mogi solution to observations for Salurajima after the 1914 eruption\n",
    "# !! note the units when plotting\n",
    "\n",
    "x1_in_km = x1/1000\n",
    "\n",
    "# Mogi solution in red line\n",
    "plt.plot(x1_in_km, syn_disp,'r')\n",
    "\n",
    "# Observed displacements in black dots\n",
    "plt.plot(marker_radial_dist, obs_disp, \"ko\")\n",
    "\n",
    "\n",
    "plt.xlabel(\"radial distance from summit (km)\")\n",
    "plt.ylabel(\"vertical displacement (mm)\")\n",
    "plt.title(\"Vertical displacements at Sakurajima after the 1914 eruption\")\n",
    "plt.show()\n",
    "\n",
    "\n",
    "# uncomment the next line if you want to save the figure: \n",
    "#plt.savefig(\"sakurajima.png\")"
   ]
  },
  {
   "cell_type": "markdown",
   "id": "1dba525d",
   "metadata": {},
   "source": [
    "## Finding the 'best' solution\n",
    "\n",
    "How do we know if our model, and if our chosen model parameters is any good?\n",
    "\n",
    "One way to judge is by measuring the root mean square error (RMSE) between the predicted displacement from our model and the actual observed displacements. \n"
   ]
  },
  {
   "cell_type": "code",
   "execution_count": null,
   "id": "f7c91b83",
   "metadata": {},
   "outputs": [],
   "source": [
    "# calculate the predicted displacements at the survey markers from the previously chosen parameters\n",
    "\n",
    "y_predicted = mogi_vertical(marker_radial_dist*1000,a,d,g,delta_p,sigma)*1000\n",
    "y_actual = obs_disp\n",
    "\n",
    "# Calcuate the Mean Square Error and take the square root to obtain Root Mean Square Error\n",
    "MSE = np.square(np.subtract(y_actual,y_predicted)).mean()  \n",
    "RMSE = math.sqrt(MSE)\n",
    "\n",
    "print(\"The RMSE for Mogi Model with source depth\", d, \"[m] and excess pressure of\", delta_p,\"[MPa] is \", RMSE)\n"
   ]
  },
  {
   "cell_type": "markdown",
   "id": "e06143a0",
   "metadata": {},
   "source": [
    "### Grid-search for best-fitting Mogi model\n",
    "\n",
    "To find a best-fitting Mogi model, we will test a range of source depths and excess pressures and estimate their corresponding RMSE. Instead of changing the value manually one by one, we will use \"nested loops\" to iterate through the values."
   ]
  },
  {
   "cell_type": "code",
   "execution_count": null,
   "id": "511769b3",
   "metadata": {},
   "outputs": [],
   "source": [
    "# set a range of depth and excess pressure\n",
    "depth_range = np.arange(2500,30000,500)  # 2500 m to 30000 m in 500 m increment. cannot be shallower than source radius\n",
    "delta_p_range = np.arange(-1000,0,50)  # -1000 MPa to 0 MPa in 50 MPa interval\n",
    "\n",
    "# fix other paramters\n",
    "a = 2500.0 #source radius (m)\n",
    "sigma = 0.25 #Poisson ratio\n",
    "g = 30000.0 #shear modulus (MPa)\n",
    "\n"
   ]
  },
  {
   "cell_type": "code",
   "execution_count": null,
   "id": "c740d683",
   "metadata": {},
   "outputs": [],
   "source": [
    "# ===================================== #\n",
    "\n",
    "# pre-allocate RMSE array\n",
    "RMSE_array = np.zeros((len(depth_range),len(delta_p_range)))\n",
    "\n",
    "# loop through depth and excess pressure\n",
    "for index0,d in enumerate(depth_range):\n",
    "    for index1,delta_p in enumerate(delta_p_range):\n",
    "        y_predicted_tmp = mogi_vertical(marker_radial_dist*1000,a,d,g,delta_p,sigma)*1000\n",
    "        MSE_tmp = np.square(np.subtract(y_actual,y_predicted_tmp)).mean()  \n",
    "        RMSE_array[index0,index1] = math.sqrt(MSE_tmp)\n",
    "    \n",
    "\n",
    "# plot results\n",
    "extent =  np.min(delta_p_range), np.max(delta_p_range),np.min(depth_range), np.max(depth_range)\n",
    "plt.contourf(RMSE_array,50,cmap=plt.cm.viridis,origin='lower',extent=extent)\n",
    "plt.xlabel(\"Excess pressure [MPa]\")\n",
    "plt.ylabel(\"Source depth [m]\")\n",
    "cbar = plt.colorbar()\n",
    "cbar.ax.set_ylabel('RMSE', rotation=90)\n",
    "\n",
    "# find best-fitting model with the smallest RMSE\n",
    "index = np.where(RMSE_array == np.amin(RMSE_array))\n",
    "plt.plot(delta_p_range[index[1]], depth_range[index[0]], 'ro')\n",
    "\n",
    "print(\"The best-fitting Mogi Model has a source depth of\", float(depth_range[index[0]]),\"[m] and excess pressure of\", float(delta_p_range[index[1]]),\"[MPa]\")\n"
   ]
  },
  {
   "cell_type": "code",
   "execution_count": null,
   "id": "44c59d67",
   "metadata": {},
   "outputs": [],
   "source": []
  }
 ],
 "metadata": {
  "kernelspec": {
   "display_name": "Python 3 (ipykernel)",
   "language": "python",
   "name": "python3"
  },
  "language_info": {
   "codemirror_mode": {
    "name": "ipython",
    "version": 3
   },
   "file_extension": ".py",
   "mimetype": "text/x-python",
   "name": "python",
   "nbconvert_exporter": "python",
   "pygments_lexer": "ipython3",
   "version": "3.9.12"
  }
 },
 "nbformat": 4,
 "nbformat_minor": 5
}
