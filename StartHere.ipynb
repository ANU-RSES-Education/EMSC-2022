{
 "cells": [
  {
   "cell_type": "markdown",
   "metadata": {},
   "source": [
    "# EMSC2022 \n",
    "\n",
    "  - Lab 1 \n",
    "     - [Lab 1.1](Notebooks/LAB1/EMSC2022W1.ipynb) \n",
    "  - Lab 2 \n",
    "     - [Lab 2.1](Notebooks/LAB2/EMSC2022W2.ipynb) \n",
    "  - Lab 3 \n",
    "     - [Lab 3.1](Notebooks/LAB3/LAB3_Maps2020.ipynb)\n",
    "     - [Lab 3.2](Notebooks/LAB3/LAB3_Volcano+Map.ipynb)\n",
    "     - [Lab 3.3](Notebooks/LAB3/LAB3_On_Demand_MapServices.ipynb)\n",
    "  - Lab 4\n",
    "     - [Lab 4.1](Notebooks/LAB4/LAB4-focal_mechanisms.ipynb)\n",
    "     - [Lab 4.2](Notebooks/LAB4/LAB4-izmit+focal+mechanism.ipynb)\n",
    "  - Lab 5\n",
    "     - [Lab 5.1](Notebooks/LAB5/LAB5-Raypaths.ipynb)\n",
    "     - [Lab 5.2](Notebooks/LAB5/LAB5-NZ_Earthquake.ipynb)\n",
    "  - Lab 6\n",
    "     - [Lab 6.1](Notebooks/LAB6/LAB6-Gutenberg-Richter.ipynb)\n",
    "  \n",
    "  - Lab 8 \n",
    "     - [Lab 8.1](Notebooks/LAB8/EMSC2022W8.ipynb)\n",
    "\n",
    "  - Lab 11\n",
    "     - [Lab 11.i](Notebooks/LAB11/EMSC2022W11.i.ipynb)\n",
    "     - [Lab 11.ii](Notebooks/LAB11/EMSC2022W11.ii.ipynb)\n",
    "     - [Lab 11.iii](Notebooks/LAB11/EMSC2022W11.iii.ipynb)\n",
    "     - [Lab 11.iv](Notebooks/LAB11/EMSC2022W11.iv.ipynb)\n",
    "     - [Lab 11.v](Notebooks/LAB11/EMSC2022W11.v.ipynb)\n",
    "\n",
    " \n",
    " "
   ]
  },
  {
   "cell_type": "markdown",
   "metadata": {},
   "source": [
    "\n",
    "\n",
    "\n"
   ]
  },
  {
   "cell_type": "code",
   "execution_count": null,
   "metadata": {},
   "outputs": [],
   "source": []
  }
 ],
 "metadata": {
  "file_extension": ".py",
  "kernelspec": {
   "display_name": "Python 3.7.6 64-bit ('base': conda)",
   "language": "python",
   "name": "python37664bitbaseconda56fe6d69fc4741fdbf8bf1acb5c09fd6"
  },
  "language_info": {
   "codemirror_mode": {
    "name": "ipython",
    "version": 3
   },
   "file_extension": ".py",
   "mimetype": "text/x-python",
   "name": "python",
   "nbconvert_exporter": "python",
   "pygments_lexer": "ipython3",
   "version": "3.7.6"
  },
  "mimetype": "text/x-python",
  "name": "python",
  "npconvert_exporter": "python",
  "pygments_lexer": "ipython3",
  "version": 3
 },
 "nbformat": 4,
 "nbformat_minor": 4
}
