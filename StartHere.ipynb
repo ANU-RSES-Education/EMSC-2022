{
 "cells": [
  {
   "source": [
    "# EMSC2022 \n",
    "\n",
    "These online practicals are in the form of Jupyter notebooks that you can access from this page once you have logged into the server. You may be logged out if you are away for a while but once you return to this page, your work should be saved. Any computer system can fail, however, so you should download a backup of any work that you want to keep.  \n",
    "\n",
    "## Lab work for Week 1\n",
    "     - [Lab 1.1](Notebooks/LAB1/EMSC2022W1.ipynb) \n",
    "\n",
    "## Lab work for Week 2\n",
    "     - [Lab 2.1](Notebooks/LAB2/EMSC2022W2.ipynb) \n",
    "\n",
    "## Lab work for Week 3\n",
    "     - [Lab 3.1](Notebooks/LAB3/LAB3_Maps2020.ipynb)\n",
    "     - [Lab 3.2](Notebooks/LAB3/LAB3_Volcano+Map.ipynb)\n",
    "     - [Lab 3.3](Notebooks/LAB3/LAB3_On_Demand_MapServices.ipynb)\n",
    "\n",
    "## Lab work for Week 4\n",
    "     - [Lab 4.1](Notebooks/LAB4/LAB4-focal_mechanisms.ipynb)\n",
    "     - [Lab 4.2](Notebooks/LAB4/LAB4-izmit+focal+mechanism.ipynb)\n",
    "\n",
    "## Lab work for Week 5\n",
    "     - [Lab 5.1](Notebooks/LAB5/LAB5-Raypaths.ipynb)\n",
    "     - [Lab 5.2](Notebooks/LAB5/LAB5-NZ_Earthquake.ipynb)\n",
    "\n",
    "## Lab work for Week 6\n",
    "     - [Lab 6.1](Notebooks/LAB6/LAB6-Gutenberg-Richter.ipynb)\n",
    "  \n",
    "## Lab work for Week 8\n",
    "     - [Lab 8.1](Notebooks/LAB8/EMSC2022W8.ipynb)\n",
    "\n",
    "## Lab work for Week 11\n",
    "\n",
    "In this lab, we will make the connection between global mantle dynamics and the sea-floor depth age relationship. The theory of boundary layers predicts that the depth of the ocean and the age of the ocean floor will be related through the square root.\n",
    "\n",
    "Working through this set of notebooks, we will see how to download the raw data that we need, how to process it from a flat-Earth grid to triangles so that both sets of data are at the same place and only in the oceans.\n",
    "\n",
    "Finally, We will make a plot and see if we can do better than the pattern which Turcotte and Schubert show in the classic textbook image.\n",
    "\n",
    "     - [Lab 11.i](Notebooks/LAB11/EMSC2022W11.i.ipynb)\n",
    "     - [Lab 11.ii](Notebooks/LAB11/EMSC2022W11.ii.ipynb)\n",
    "     - [Lab 11.iii](Notebooks/LAB11/EMSC2022W11.iii.ipynb)\n",
    "     - [Lab 11.iv](Notebooks/LAB11/EMSC2022W11.iv.ipynb)\n",
    "     - [Lab 11.v](Notebooks/LAB11/EMSC2022W11.v.ipynb)\n",
    "\n",
    " ![T&S](https://github.com/ANU-RSES-Education/EMSC-2022/raw/9c69a2169a5250778ab6c6cd618a2dbcbcff09a9/Notebooks/LAB11/Images/LithosphereDepthAge.png)\n",
    "\n",
    "---\n",
    "\n",
    "If you would like to run these examples on your own computer, you will need to be confident with python, anaconda and github. Please contact louis.moresi@anu.edu.au for help. \n",
    "\n",
    " "
   ],
   "cell_type": "markdown",
   "metadata": {}
  },
  {
   "cell_type": "markdown",
   "metadata": {},
   "source": [
    "\n",
    "\n",
    "\n"
   ]
  },
  {
   "cell_type": "code",
   "execution_count": null,
   "metadata": {},
   "outputs": [],
   "source": []
  }
 ],
 "metadata": {
  "file_extension": ".py",
  "kernelspec": {
   "display_name": "Python 3.7.6 64-bit ('base': conda)",
   "language": "python",
   "name": "python37664bitbaseconda56fe6d69fc4741fdbf8bf1acb5c09fd6"
  },
  "language_info": {
   "codemirror_mode": {
    "name": "ipython",
    "version": 3
   },
   "file_extension": ".py",
   "mimetype": "text/x-python",
   "name": "python",
   "nbconvert_exporter": "python",
   "pygments_lexer": "ipython3",
   "version": "3.7.6"
  },
  "mimetype": "text/x-python",
  "name": "python",
  "npconvert_exporter": "python",
  "pygments_lexer": "ipython3",
  "version": 3
 },
 "nbformat": 4,
 "nbformat_minor": 4
}